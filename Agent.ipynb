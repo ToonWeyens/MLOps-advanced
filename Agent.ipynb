{
  "nbformat": 4,
  "nbformat_minor": 0,
  "metadata": {
    "colab": {
      "name": "MLOps Agents on colab",
      "provenance": [],
      "collapsed_sections": []
    },
    "kernelspec": {
      "name": "python3",
      "display_name": "Python 3"
    },
    "language_info": {
      "name": "python"
    }
  },
  "cells": [
    {
      "cell_type": "markdown",
      "metadata": {
        "id": "CZk4BtP8Zi2l"
      },
      "source": [
        "## MLOps Agent\n",
        "\n",
        "## The scope of this Notebook is to provide instructions on how to use DataRobot's MLOps Agents."
      ]
    },
    {
      "cell_type": "markdown",
      "metadata": {
        "id": "QecgVDGljAZj"
      },
      "source": [
        "\n",
        "resources:\n",
        "\n",
        "* Agents webinar: https://community.datarobot.com/t5/learning-sessions/monitoring-all-your-models-with-datarobot-agents/ba-p/7732\n",
        "* Working with Remote Models: https://community.datarobot.com/t5/resources/working-with-remote-models/ta-p/7517\n",
        "* Deploy in SageMaker and Monitor with MLOps Agents: https://community.datarobot.com/t5/resources/deploy-in-sagemaker-and-monitor-with-mlops-agents/ta-p/5771\n"
      ]
    },
    {
      "cell_type": "code",
      "metadata": {
        "colab": {
          "base_uri": "https://localhost:8080/"
        },
        "id": "uyBkg4g_a2rH",
        "outputId": "a356d3c9-200d-41b2-e37b-9054d0cee925"
      },
      "source": [
        "%%sh\n",
        "git clone https://github.com/timsetsfire/agents-plus-challengers.git"
      ],
      "execution_count": null,
      "outputs": [
        {
          "output_type": "stream",
          "name": "stderr",
          "text": [
            "Cloning into 'agents-plus-challengers'...\n"
          ]
        }
      ]
    },
    {
      "cell_type": "code",
      "metadata": {
        "id": "TgPJbMlmbfkU",
        "colab": {
          "base_uri": "https://localhost:8080/"
        },
        "outputId": "178f4099-c4d1-4834-b829-235db3c60d92"
      },
      "source": [
        "%%sh\n",
        "pip install -r /content/agents-plus-challengers/remote-model/requirements.txt -q\n",
        "pip install datarobot urllib3==1.26.4 -U -q"
      ],
      "execution_count": null,
      "outputs": [
        {
          "output_type": "stream",
          "name": "stderr",
          "text": [
            "ERROR: pip's dependency resolver does not currently take into account all the packages that are installed. This behaviour is the source of the following dependency conflicts.\n",
            "google-colab 1.0.0 requires requests~=2.23.0, but you have requests 2.27.1 which is incompatible.\n",
            "datascience 0.10.6 requires folium==0.2.1, but you have folium 0.8.3 which is incompatible.\n"
          ]
        }
      ]
    },
    {
      "cell_type": "code",
      "metadata": {
        "id": "2tOtjmN0i9jG"
      },
      "source": [
        "import pandas as pd\n",
        "import bson\n",
        "import time\n",
        "import sys\n",
        "import pprint\n",
        "import os\n",
        "import datarobot as dr\n",
        "import yaml\n",
        "import subprocess \n",
        "import urllib3\n",
        "import requests\n",
        "import json\n",
        "import bson\n",
        "sys.path.append(\"/content/agents-plus-challengers/remote-model\")"
      ],
      "execution_count": null,
      "outputs": []
    },
    {
      "cell_type": "code",
      "metadata": {
        "id": "99YNqDIGgyK9"
      },
      "source": [
        "df = pd.read_csv(\n",
        "    \"/content/agents-plus-challengers/data/DR_Demo_SCMS.csv\"\n",
        "    ).sample(frac=0.3)\n",
        "target = \"Late_delivery\"\n",
        "df[target].describe()\n",
        "\n",
        "df[\"AssociationID\"] = 1\n",
        "df[\"AssociationID\"] = df[\"AssociationID\"].apply(lambda x: str(bson.ObjectId()))\n",
        "\n",
        "sampled_df = df.sample(frac = 0.20)"
      ],
      "execution_count": null,
      "outputs": []
    },
    {
      "cell_type": "markdown",
      "metadata": {
        "id": "4DzIoMms6aa8"
      },
      "source": [
        "## Grab agents tarball from DataRobot"
      ]
    },
    {
      "cell_type": "code",
      "metadata": {
        "colab": {
          "base_uri": "https://localhost:8080/"
        },
        "id": "016T8LZMlI2T",
        "outputId": "f983211b-aa15-45cb-c993-686aecbf8345"
      },
      "source": [
        "token = \"NjE2NDQwMGUwZGFlOTllZTA4ZWEyMzUzOkg3M25tck1pWWM2eWNvSkUzbGQzV1dYSEljNjhXSmV6dHZXQkFHQUc4b0k9\"\n",
        "endpoint = \"https://app.datarobot.com\"\n",
        "## connect to DataRobot platform with datarobot python client. \n",
        "client = dr.Client(token, \"{}/api/v2\".format(endpoint))\n",
        "## grab mlops agents tarball\n",
        "mlops_agents_tb = client.get(\"mlopsInstaller\")\n",
        "with open(\"/content/mlops-agent.tar.gz\", \"wb\") as f:\n",
        "    f.write(mlops_agents_tb.content)\n",
        "## unpack tarball\n",
        "os.system(\"tar -xf /content/mlops-agent.tar.gz -C . && mkdir -p /tmp/ta\")"
      ],
      "execution_count": null,
      "outputs": [
        {
          "output_type": "execute_result",
          "data": {
            "text/plain": [
              "0"
            ]
          },
          "metadata": {},
          "execution_count": 5
        }
      ]
    },
    {
      "cell_type": "markdown",
      "metadata": {
        "id": "fjld3Tm06fm4"
      },
      "source": [
        "## Agents Framework\n",
        "\n",
        "1. Scoring pipeline - used to score data\n",
        "2. Python MLOps library - used to relay data to a buffer.  Buffer could be any of \n",
        "  * file system - used in this example\n",
        "  * pubsub\n",
        "  * kafka\n",
        "  * sqs\n",
        "  * rabbit\n",
        "2. Tracking Agents (light weight java service) - monitors the buffer and relays data to DR MLOps\n"
      ]
    },
    {
      "cell_type": "markdown",
      "metadata": {
        "id": "G2CNa8Zb6t-s"
      },
      "source": [
        "### Configure Tracking Agents\n",
        "\n",
        "Very vanilla configuration\n",
        "\n",
        "\n",
        "Using File system as a buffer"
      ]
    },
    {
      "cell_type": "code",
      "metadata": {
        "colab": {
          "base_uri": "https://localhost:8080/"
        },
        "id": "P7zCFQG6j3z1",
        "outputId": "2009d8d0-a8a1-4666-b2ce-f2f1fbbef0be"
      },
      "source": [
        "import glob\n",
        "agents_dir = glob.glob(\"/content/datarobot_mlops*\").pop()\n",
        "print(agents_dir)\n",
        "with open('{}/conf/mlops.agent.conf.yaml'.format(agents_dir)) as file:\n",
        "    documents = yaml.load(file)\n",
        "## configure the loaction of the mlops instance with which we'll communicate\n",
        "documents['mlopsUrl'] = endpoint\n",
        "# Set your API token\n",
        "documents['apiToken'] = token\n",
        "## write the configuration back to disk\n",
        "with open('{}/conf/mlops.agent.conf.yaml'.format(agents_dir), \"w\") as f:\n",
        "    yaml.dump(documents, f)\n",
        "## start the tracking agents service\n",
        "subprocess.call(\"{}/bin/start-agent.sh\".format(agents_dir))\n",
        "## check status of agents service\n",
        "check = subprocess.Popen([\"{}/bin/status-agent.sh\".format(agents_dir)], stdout=subprocess.PIPE)\n",
        "print(check.stdout.readlines())\n",
        "check.terminate()"
      ],
      "execution_count": null,
      "outputs": [
        {
          "output_type": "stream",
          "name": "stdout",
          "text": [
            "/content/datarobot_mlops_package-8.0.5\n",
            "[b'DataRobot MLOps-Agent is running as a service.\\n']\n"
          ]
        }
      ]
    },
    {
      "cell_type": "code",
      "source": [
        "os.system('pip install {}/lib/datarobot_mlops-*.whl'.format(agents_dir))\n",
        "os.system('pip install {}/lib/datarobot_mlops_connected_client-*.whl'.format(agents_dir))"
      ],
      "metadata": {
        "colab": {
          "base_uri": "https://localhost:8080/"
        },
        "id": "R6C9CKebgZSx",
        "outputId": "17315922-0c41-4d46-a2d6-53564dc96dcd"
      },
      "execution_count": null,
      "outputs": [
        {
          "output_type": "execute_result",
          "data": {
            "text/plain": [
              "0"
            ]
          },
          "metadata": {},
          "execution_count": 7
        }
      ]
    },
    {
      "cell_type": "markdown",
      "metadata": {
        "id": "l34rncIUbcaE"
      },
      "source": [
        "## Upload Training Data"
      ]
    },
    {
      "cell_type": "code",
      "source": [
        "upload_new_data = False"
      ],
      "metadata": {
        "id": "lWYzDFPYMamy"
      },
      "execution_count": null,
      "outputs": []
    },
    {
      "cell_type": "code",
      "source": [
        "if upload_new_data:\n",
        "    print(\"Uploading training data. This may take some time...\")\n",
        "    training_data = dr.Dataset.create_from_in_memory_data(df.drop([\"AssociationID\"], axis=1))\n",
        "    training_data.modify(name='Medical Shipments')\n",
        "else:\n",
        "    dataset_id = '61fcf913f2012b0d735aa891'\n",
        "    training_data = dr.Dataset.get(dataset_id)"
      ],
      "metadata": {
        "id": "dmvAZV9jMDVN"
      },
      "execution_count": null,
      "outputs": []
    },
    {
      "cell_type": "markdown",
      "source": [
        "## Register Model, and Enable Monitoring with DataRobot MLOps"
      ],
      "metadata": {
        "id": "3RUMrYEfWiXA"
      }
    },
    {
      "cell_type": "code",
      "source": [
        "register_new_model = False"
      ],
      "metadata": {
        "id": "raWV3nkXIRHX"
      },
      "execution_count": null,
      "outputs": []
    },
    {
      "cell_type": "code",
      "metadata": {
        "id": "jQhsAEr1fK2e"
      },
      "source": [
        "from datarobot.mlops.mlops import MLOps\n",
        "from datarobot.mlops.connected.client import MLOpsClient\n",
        "\n",
        "# take same model_info\n",
        "\n",
        "DEPLOYMENT_NAME=\"Remote model in colab toon.weyens\"\n",
        "model_info = {\n",
        "              \"name\": \"Late shipment model\",\n",
        "              \"modelDescription\": {\n",
        "                \"description\": \"Binary classification on late shipment dataset\",\n",
        "                \"location\": \"colab\"\n",
        "              },\n",
        "              \"target\": {\n",
        "                 \"type\": \"Binary\",\n",
        "                 \"name\": \"Late_delivery\",\n",
        "                 \"classNames\": [\"1\",\"0\"],  # minority/positive class should be listed first\n",
        "                 \"predictionThreshold\": 0.5\n",
        "                }\n",
        "            }\n",
        "model_info[\"datasets\"] = {\"trainingDataCatalogId\": training_data.id}\n",
        "\n",
        "if register_new_model:\n",
        "    # Create connected client\n",
        "    mlops_connected_client = MLOpsClient(endpoint, token)\n",
        "    # Create the model package\n",
        "    print('Create model package')\n",
        "    model_pkg_id = mlops_connected_client.create_model_package(model_info)\n",
        "    model_pkg = mlops_connected_client.get_model_package(model_pkg_id)\n",
        "    model_id = model_pkg[\"modelId\"]\n",
        "    # Deploy the model package\n",
        "    print('Deploy model package')\n",
        "    deployment_id = mlops_connected_client.deploy_model_package(model_pkg[\"id\"], label = DEPLOYMENT_NAME)\n",
        "else:\n",
        "    deployment_id = \"61fe425df01c67f2f5765e67\""
      ],
      "execution_count": null,
      "outputs": []
    },
    {
      "cell_type": "code",
      "source": [
        "!mlops-cli --help"
      ],
      "metadata": {
        "id": "TZg9RO3YfvB8",
        "outputId": "2f64859d-2f70-4331-cc95-1f03c8f7af55",
        "colab": {
          "base_uri": "https://localhost:8080/"
        }
      },
      "execution_count": null,
      "outputs": [
        {
          "output_type": "stream",
          "name": "stdout",
          "text": [
            "usage: mlops-cli [-h] [--version] [--verbose] [--terse]\n",
            "                 [--mlops-url MLOPS_SERVICE_URL] [--api-token MLOPS_API_TOKEN]\n",
            "                 [--verify-ssl VERIFY_SSL] [--deployment-id DEPLOYMENT_ID]\n",
            "                 [--prediction-environment-id PREDICTION_ENVIRONMENT_ID]\n",
            "                 [--model-id MODEL_ID] [--model-package-id MODEL_PACKAGE_ID]\n",
            "                 [--target-col TARGET_COL]\n",
            "                 [--prediction-cols PREDICTION_COLS [PREDICTION_COLS ...]]\n",
            "                 [--class-names CLASS_NAMES [CLASS_NAMES ...]] [--dry-run]\n",
            "                 [--status-file STATUS_FILE] [--assoc-id-col ASSOC_ID_COL]\n",
            "                 [--json-config JSON_CONFIG] [--dataset-id DATASET_ID]\n",
            "                 [--timeout TIMEOUT] [--search SEARCH] [--limit LIMIT]\n",
            "                 [--input INPUT] [--count COUNT] [--rows ROWS]\n",
            "                 [--prediction-time PREDICTION_TIME]\n",
            "                 [--filesystem-directory FILESYSTEM_DIRECTORY] [--from-spool]\n",
            "                 [--num-concurrent-requests NUM_CONCURRENT_REQUESTS] [--wait]\n",
            "                 [--actual-value-col ACTUAL_VALUE_COL]\n",
            "                 [--acted-on-col ACTED_ON_COL] [--timestamp-col TIMESTAMP_COL]\n",
            "                 [--deployment-label DEPLOYMENT_LABEL]\n",
            "                 [--output-dir OUTPUT_DIR]\n",
            "                 [--training-dataset-id TRAINING_DATASET_ID]\n",
            "                 [--holdout-dataset-id HOLDOUT_DATASET_ID]\n",
            "                 [--reason {ACCURACY,DATA_DRIFT,ERRORS,SCHEDULED_REFRESH,SCORING_SPEED,OTHER}]\n",
            "                 {perf,predictions,actuals,model,dataset,deployment,prediction-environment,service-stats}\n",
            "                 {upload,download,create,get,list,delete,replace,report,run,deploy,get-model}\n",
            "\n",
            "        A command line tool for interacting with DataRobot MLOps app.\n",
            "        All commands require --mlops-service-url and --mlops-api-token.\n",
            "\n",
            "        Usage is <subject> <action> followed by options. For example:\n",
            "\n",
            "          # create a prediction environment\n",
            "          prediction-environment create --json-config <>\n",
            "\n",
            "          # get information about a prediction environment\n",
            "          prediction-environment get --prediction-environment-id <>\n",
            "\n",
            "          # delete a prediction environment (must not have any deployments)\n",
            "          prediction-environment delete --prediction-environment-id <>\n",
            "\n",
            "          # upload a dataset into the AI catalog\n",
            "          dataset upload --input <>\n",
            "\n",
            "          # delete a dataset from the AI catalog\n",
            "          dataset delete --dataset-id\n",
            "\n",
            "          # create an external model package\n",
            "          model create --json-config <> --training-dataset-id <> --holdout-dataset-id <>\n",
            "\n",
            "          # get model package metadata\n",
            "          model get --model-package-id <>\n",
            "\n",
            "          # deploy a model package\n",
            "          model deploy --model-package-id <> --deployment-label <>\n",
            "\n",
            "          # download the current model artifact from a deployment (for non-external models only)\n",
            "          model download --deployment-id\n",
            "\n",
            "          # delete a model package\n",
            "          model delete --model-package-id\n",
            "\n",
            "          # get metadata about a deployment\n",
            "          deployment get --deployment-id <>\n",
            "\n",
            "          # delete a deployment\n",
            "          deployment delete --deployment-id <>\n",
            "\n",
            "          # upload a ScoringCode classification csv file\n",
            "          predictions report --prediction-cols <col1> <col2> --input <> --class-names <c1> <c2>\n",
            "\n",
            "          # upload a spool file\n",
            "          predictions report --from-spool\n",
            "\n",
            "          # upload a scoring file to a deployment\n",
            "          predictions upload --input <> --target-col <> --class-names <>\n",
            "\n",
            "          # upload an actuals file to a deployment\n",
            "          actuals report --input <> --actual-value-col <> --assoc-id-col <>\n",
            "\n",
            "          # measure performance\n",
            "          perf run --input <> --target-col <> --class-names <> --deployment-id <> --model-id <>\n",
            "        \n",
            "\n",
            "positional arguments:\n",
            "  {perf,predictions,actuals,model,dataset,deployment,prediction-environment,service-stats}\n",
            "  {upload,download,create,get,list,delete,replace,report,run,deploy,get-model}\n",
            "\n",
            "optional arguments:\n",
            "  -h, --help            show this help message and exit\n",
            "  --version             show program's version number and exit\n",
            "  --verbose             Show verbose output\n",
            "  --terse               Only return IDs as output for create/get/list.\n",
            "  --mlops-url MLOPS_SERVICE_URL\n",
            "                        MLOps service url to use (env: MLOPS_SERVICE_URL)\n",
            "  --api-token MLOPS_API_TOKEN\n",
            "                        MLOps API Token to use for connecting (env: MLOPS_API_TOKEN)\n",
            "  --verify-ssl VERIFY_SSL\n",
            "                        Verify SSL connection to DataRobot MLOps\n",
            "  --deployment-id DEPLOYMENT_ID\n",
            "                        Deployment id to use for monitoring model predictions (env: MLOPS_DEPLOYMENT_ID)\n",
            "  --prediction-environment-id PREDICTION_ENVIRONMENT_ID\n",
            "                        Prediction Environment id(env: MLOPS_PREDICTION_ENVIRONMENT_ID)\n",
            "  --model-id MODEL_ID   Model id to use for model package creation or prediction monitoring.(env: MLOPS_MODEL_ID)\n",
            "  --model-package-id MODEL_PACKAGE_ID\n",
            "                        Model package id to use for model package deployment (env: MLOPS_MODEL_PACAKGE_ID)\n",
            "  --target-col TARGET_COL\n",
            "                        Name of target column in input data\n",
            "  --prediction-cols PREDICTION_COLS [PREDICTION_COLS ...]\n",
            "                        Name of prediction column(s) in input data\n",
            "  --class-names CLASS_NAMES [CLASS_NAMES ...]\n",
            "                        Name of the classes for classification data\n",
            "  --dry-run             Dry run, no actual requests will be sent to DataRobot MLOps\n",
            "  --status-file STATUS_FILE\n",
            "                        Path to the file tracking status of the upload\n",
            "  --assoc-id-col ASSOC_ID_COL\n",
            "                        Name of association id column in input data\n",
            "  --json-config JSON_CONFIG\n",
            "                        Json configuration to use for object creation\n",
            "  --dataset-id DATASET_ID\n",
            "                        Dataset id to use for AI catalog operations (env: MLOPS_DATASET_ID)\n",
            "  --timeout TIMEOUT     Timeout value for connection in seconds\n",
            "  --search SEARCH       Search filter to use when listing items.\n",
            "  --limit LIMIT         The maximum items to return when listing items.\n",
            "  --input INPUT         Path to an input dataset\n",
            "  --count COUNT         Number of iterations. This argument depends on the context it is called in\n",
            "  --rows ROWS           Number of rows to use from input file\n",
            "  --prediction-time PREDICTION_TIME\n",
            "                        Time in milliseconds it took to compute predictions (default 10ms)\n",
            "  --filesystem-directory FILESYSTEM_DIRECTORY\n",
            "                        Path to the filesystem spool directory\n",
            "  --from-spool          Report prediction data from spooler\n",
            "  --num-concurrent-requests NUM_CONCURRENT_REQUESTS\n",
            "                        Number of concurrent requests for async reporting\n",
            "  --wait                Wait for request to MLOps to complete\n",
            "  --actual-value-col ACTUAL_VALUE_COL\n",
            "                        Name of actual value column in input data\n",
            "  --acted-on-col ACTED_ON_COL\n",
            "                        Name of was acted on column in input data\n",
            "  --timestamp-col TIMESTAMP_COL\n",
            "                        Name of timestamp column in input data\n",
            "  --deployment-label DEPLOYMENT_LABEL\n",
            "                        Deployment label to use when creating a deployment (env: MLOPS_DEPLOYMENT_LABEL)\n",
            "  --output-dir OUTPUT_DIR\n",
            "                        Output directory where to write the model package file\n",
            "  --training-dataset-id TRAINING_DATASET_ID\n",
            "                        Dataset id to use for training set model package creation (env: MLOPS_TRAINING_DATASET_ID)\n",
            "  --holdout-dataset-id HOLDOUT_DATASET_ID\n",
            "                        Dataset id to use for the holdout set model package creation (env: MLOPS_HOLDOUT_DATASET_ID)\n",
            "  --reason {ACCURACY,DATA_DRIFT,ERRORS,SCHEDULED_REFRESH,SCORING_SPEED,OTHER}\n"
          ]
        }
      ]
    },
    {
      "cell_type": "markdown",
      "metadata": {
        "id": "UQPrA0lC0D2g"
      },
      "source": [
        "## Update Drift Tracking"
      ]
    },
    {
      "cell_type": "code",
      "metadata": {
        "id": "LfFdv76vvKdu"
      },
      "source": [
        "deployment = dr.Deployment.get(deployment_id)\n",
        "if register_new_model:\n",
        "    deployment.update_drift_tracking_settings(target_drift_enabled=True, feature_drift_enabled=True)"
      ],
      "execution_count": null,
      "outputs": []
    },
    {
      "cell_type": "markdown",
      "metadata": {
        "id": "0HXCAteX0Ipn"
      },
      "source": [
        "## Update accuracy tracking"
      ]
    },
    {
      "cell_type": "code",
      "metadata": {
        "id": "u2uInvY90GVl"
      },
      "source": [
        "if register_new_model:\n",
        "    deployment.update_association_id_settings(column_names = [\"AssociationID\"], required_in_prediction_requests=False)"
      ],
      "execution_count": null,
      "outputs": []
    },
    {
      "cell_type": "markdown",
      "metadata": {
        "id": "a_gsp-cG0uJp"
      },
      "source": [
        "## Review deployment detail"
      ]
    },
    {
      "cell_type": "code",
      "metadata": {
        "id": "88wlHkCy7FI1",
        "colab": {
          "base_uri": "https://localhost:8080/",
          "height": 269
        },
        "outputId": "0a496945-1a97-4d39-8efa-0120648fdb10"
      },
      "source": [
        "DEPLOYMENT_ID = deployment.id\n",
        "MODEL_ID = deployment.model[\"id\"]\n",
        "\n",
        "deployment_details = client.get(f\"deployments/{deployment.id}\").json()\n",
        "\n",
        "deployment_details_df = pd.DataFrame({\"model name\": deployment_details[\"label\"],\n",
        " \"model description\": deployment_details[\"description\"],\n",
        " \"create date\": deployment_details[\"createdAt\"],\n",
        " \"deployment id\": deployment_details[\"id\"], \n",
        " \"approval status\": deployment_details[\"approvalStatus\"], \n",
        " \"importance\": deployment_details[\"importance\"],\n",
        " \"owners\": deployment_details[\"owners\"]}).T\n",
        " \n",
        "deployment_details_df[[\"preview\"]]"
      ],
      "execution_count": null,
      "outputs": [
        {
          "output_type": "execute_result",
          "data": {
            "text/html": [
              "\n",
              "  <div id=\"df-ac26144d-ad54-4933-a3ee-ad0977d4bbfe\">\n",
              "    <div class=\"colab-df-container\">\n",
              "      <div>\n",
              "<style scoped>\n",
              "    .dataframe tbody tr th:only-of-type {\n",
              "        vertical-align: middle;\n",
              "    }\n",
              "\n",
              "    .dataframe tbody tr th {\n",
              "        vertical-align: top;\n",
              "    }\n",
              "\n",
              "    .dataframe thead th {\n",
              "        text-align: right;\n",
              "    }\n",
              "</style>\n",
              "<table border=\"1\" class=\"dataframe\">\n",
              "  <thead>\n",
              "    <tr style=\"text-align: right;\">\n",
              "      <th></th>\n",
              "      <th>preview</th>\n",
              "    </tr>\n",
              "  </thead>\n",
              "  <tbody>\n",
              "    <tr>\n",
              "      <th>model name</th>\n",
              "      <td>Remote model in colab toon.weyens</td>\n",
              "    </tr>\n",
              "    <tr>\n",
              "      <th>model description</th>\n",
              "      <td></td>\n",
              "    </tr>\n",
              "    <tr>\n",
              "      <th>create date</th>\n",
              "      <td>2022-02-05T09:24:46.051000Z</td>\n",
              "    </tr>\n",
              "    <tr>\n",
              "      <th>deployment id</th>\n",
              "      <td>61fe425df01c67f2f5765e67</td>\n",
              "    </tr>\n",
              "    <tr>\n",
              "      <th>approval status</th>\n",
              "      <td>APPROVED</td>\n",
              "    </tr>\n",
              "    <tr>\n",
              "      <th>importance</th>\n",
              "      <td>None</td>\n",
              "    </tr>\n",
              "    <tr>\n",
              "      <th>owners</th>\n",
              "      <td>[{'id': '6156cfd4c5145f3407af633b', 'firstName...</td>\n",
              "    </tr>\n",
              "  </tbody>\n",
              "</table>\n",
              "</div>\n",
              "      <button class=\"colab-df-convert\" onclick=\"convertToInteractive('df-ac26144d-ad54-4933-a3ee-ad0977d4bbfe')\"\n",
              "              title=\"Convert this dataframe to an interactive table.\"\n",
              "              style=\"display:none;\">\n",
              "        \n",
              "  <svg xmlns=\"http://www.w3.org/2000/svg\" height=\"24px\"viewBox=\"0 0 24 24\"\n",
              "       width=\"24px\">\n",
              "    <path d=\"M0 0h24v24H0V0z\" fill=\"none\"/>\n",
              "    <path d=\"M18.56 5.44l.94 2.06.94-2.06 2.06-.94-2.06-.94-.94-2.06-.94 2.06-2.06.94zm-11 1L8.5 8.5l.94-2.06 2.06-.94-2.06-.94L8.5 2.5l-.94 2.06-2.06.94zm10 10l.94 2.06.94-2.06 2.06-.94-2.06-.94-.94-2.06-.94 2.06-2.06.94z\"/><path d=\"M17.41 7.96l-1.37-1.37c-.4-.4-.92-.59-1.43-.59-.52 0-1.04.2-1.43.59L10.3 9.45l-7.72 7.72c-.78.78-.78 2.05 0 2.83L4 21.41c.39.39.9.59 1.41.59.51 0 1.02-.2 1.41-.59l7.78-7.78 2.81-2.81c.8-.78.8-2.07 0-2.86zM5.41 20L4 18.59l7.72-7.72 1.47 1.35L5.41 20z\"/>\n",
              "  </svg>\n",
              "      </button>\n",
              "      \n",
              "  <style>\n",
              "    .colab-df-container {\n",
              "      display:flex;\n",
              "      flex-wrap:wrap;\n",
              "      gap: 12px;\n",
              "    }\n",
              "\n",
              "    .colab-df-convert {\n",
              "      background-color: #E8F0FE;\n",
              "      border: none;\n",
              "      border-radius: 50%;\n",
              "      cursor: pointer;\n",
              "      display: none;\n",
              "      fill: #1967D2;\n",
              "      height: 32px;\n",
              "      padding: 0 0 0 0;\n",
              "      width: 32px;\n",
              "    }\n",
              "\n",
              "    .colab-df-convert:hover {\n",
              "      background-color: #E2EBFA;\n",
              "      box-shadow: 0px 1px 2px rgba(60, 64, 67, 0.3), 0px 1px 3px 1px rgba(60, 64, 67, 0.15);\n",
              "      fill: #174EA6;\n",
              "    }\n",
              "\n",
              "    [theme=dark] .colab-df-convert {\n",
              "      background-color: #3B4455;\n",
              "      fill: #D2E3FC;\n",
              "    }\n",
              "\n",
              "    [theme=dark] .colab-df-convert:hover {\n",
              "      background-color: #434B5C;\n",
              "      box-shadow: 0px 1px 3px 1px rgba(0, 0, 0, 0.15);\n",
              "      filter: drop-shadow(0px 1px 2px rgba(0, 0, 0, 0.3));\n",
              "      fill: #FFFFFF;\n",
              "    }\n",
              "  </style>\n",
              "\n",
              "      <script>\n",
              "        const buttonEl =\n",
              "          document.querySelector('#df-ac26144d-ad54-4933-a3ee-ad0977d4bbfe button.colab-df-convert');\n",
              "        buttonEl.style.display =\n",
              "          google.colab.kernel.accessAllowed ? 'block' : 'none';\n",
              "\n",
              "        async function convertToInteractive(key) {\n",
              "          const element = document.querySelector('#df-ac26144d-ad54-4933-a3ee-ad0977d4bbfe');\n",
              "          const dataTable =\n",
              "            await google.colab.kernel.invokeFunction('convertToInteractive',\n",
              "                                                     [key], {});\n",
              "          if (!dataTable) return;\n",
              "\n",
              "          const docLinkHtml = 'Like what you see? Visit the ' +\n",
              "            '<a target=\"_blank\" href=https://colab.research.google.com/notebooks/data_table.ipynb>data table notebook</a>'\n",
              "            + ' to learn more about interactive tables.';\n",
              "          element.innerHTML = '';\n",
              "          dataTable['output_type'] = 'display_data';\n",
              "          await google.colab.output.renderOutput(dataTable, element);\n",
              "          const docLink = document.createElement('div');\n",
              "          docLink.innerHTML = docLinkHtml;\n",
              "          element.appendChild(docLink);\n",
              "        }\n",
              "      </script>\n",
              "    </div>\n",
              "  </div>\n",
              "  "
            ],
            "text/plain": [
              "                                                             preview\n",
              "model name                         Remote model in colab toon.weyens\n",
              "model description                                                   \n",
              "create date                              2022-02-05T09:24:46.051000Z\n",
              "deployment id                               61fe425df01c67f2f5765e67\n",
              "approval status                                             APPROVED\n",
              "importance                                                      None\n",
              "owners             [{'id': '6156cfd4c5145f3407af633b', 'firstName..."
            ]
          },
          "metadata": {},
          "execution_count": 18
        }
      ]
    },
    {
      "cell_type": "markdown",
      "metadata": {
        "id": "FHfeNthn7LZ4"
      },
      "source": [
        "## Original Scoring Pipepline"
      ]
    },
    {
      "cell_type": "code",
      "metadata": {
        "colab": {
          "base_uri": "https://localhost:8080/"
        },
        "id": "unq1QGgx7Ohx",
        "outputId": "e20aa1a2-9a0d-47e4-cf23-4cc7b9d88674"
      },
      "source": [
        "model = pd.read_pickle(\"/content/agents-plus-challengers/remote-model/artifact.pkl\")\n",
        "predictions = model.predict_proba(sampled_df.drop([target, \"AssociationID\"], axis=1)).values.tolist()\n",
        "predictions[0:5]"
      ],
      "execution_count": null,
      "outputs": [
        {
          "output_type": "stream",
          "name": "stderr",
          "text": [
            "/usr/local/lib/python3.7/dist-packages/sklearn/base.py:444: UserWarning: X has feature names, but SimpleImputer was fitted without feature names\n",
            "  f\"X has feature names, but {self.__class__.__name__} was fitted without\"\n"
          ]
        },
        {
          "output_type": "execute_result",
          "data": {
            "text/plain": [
              "[[0.9911746912143814, 0.008825308785618585],\n",
              " [0.89082891104194, 0.10917108895806006],\n",
              " [0.7540838825838062, 0.2459161174161938],\n",
              " [0.9873671809999274, 0.012632819000072576],\n",
              " [0.9932082180124516, 0.006791781987548334]]"
            ]
          },
          "metadata": {},
          "execution_count": 19
        }
      ]
    },
    {
      "cell_type": "markdown",
      "metadata": {
        "id": "kifk-w__4te8"
      },
      "source": [
        "## Modified Scoring Pipeline"
      ]
    },
    {
      "cell_type": "code",
      "metadata": {
        "id": "GF4lkf8Az8AO",
        "colab": {
          "base_uri": "https://localhost:8080/"
        },
        "outputId": "111ab631-9944-49b5-ea10-f62f50d47ee6"
      },
      "source": [
        "from datarobot.mlops.mlops import MLOps\n",
        "# setting environment variables \n",
        "os.environ[\"MLOPS_DEPLOYMENT_ID\"]= DEPLOYMENT_ID\n",
        "os.environ[\"MLOPS_MODEL_ID\"]= MODEL_ID\n",
        "os.environ[\"MLOPS_SPOOLER_TYPE\"]= \"FILESYSTEM\"\n",
        "os.environ[\"MLOPS_FILESYSTEM_DIRECTORY\"]= \"/tmp/ta\"\n",
        "# init mlops client\n",
        "mlops = MLOps().init()\n",
        "# Load model\n",
        "model = pd.read_pickle(\"/content/agents-plus-challengers/remote-model/artifact.pkl\")\n",
        "# start timeing\n",
        "start_time = time.time()\n",
        "############## original scoring pipeline ##############\n",
        "predictions = model.predict_proba(sampled_df.drop([target, \"AssociationID\"],axis=1)).values.tolist()\n",
        "#######################################################\n",
        "# end timer\n",
        "end_time = time.time()\n",
        "# number of predictions\n",
        "num_predictions = len(predictions)\n",
        "# report stats\n",
        "mlops.report_deployment_stats(num_predictions, end_time - start_time)\n",
        "# report the predictions data: features, predictions\n",
        "mlops.report_predictions_data(features_df=sampled_df.drop([target], axis=1), \n",
        "                                predictions=predictions, class_names = [\"0\", \"1\"])"
      ],
      "execution_count": null,
      "outputs": [
        {
          "output_type": "stream",
          "name": "stderr",
          "text": [
            "/usr/local/lib/python3.7/dist-packages/sklearn/base.py:444: UserWarning: X has feature names, but SimpleImputer was fitted without feature names\n",
            "  f\"X has feature names, but {self.__class__.__name__} was fitted without\"\n"
          ]
        },
        {
          "output_type": "execute_result",
          "data": {
            "text/plain": [
              "True"
            ]
          },
          "metadata": {},
          "execution_count": 20
        }
      ]
    },
    {
      "cell_type": "code",
      "source": [
        "# shutdown python client.  Java service is still running\n",
        "mlops.shutdown()"
      ],
      "metadata": {
        "id": "qA8uujjuHrQb"
      },
      "execution_count": null,
      "outputs": []
    },
    {
      "cell_type": "code",
      "metadata": {
        "colab": {
          "base_uri": "https://localhost:8080/"
        },
        "id": "IhvjwUg2v0cc",
        "outputId": "46d4cebe-9316-4b9a-ecf5-96facb579bf3"
      },
      "source": [
        "check = subprocess.Popen([\"{}/bin/status-agent.sh\".format(agents_dir)], stdout=subprocess.PIPE)\n",
        "print(check.stdout.readlines())\n",
        "check.terminate()"
      ],
      "execution_count": null,
      "outputs": [
        {
          "output_type": "stream",
          "name": "stdout",
          "text": [
            "[b'DataRobot MLOps-Agent is running as a service.\\n']\n"
          ]
        }
      ]
    },
    {
      "cell_type": "markdown",
      "metadata": {
        "id": "ZCSpEWrW4qlQ"
      },
      "source": [
        "## Submitting Actuals"
      ]
    },
    {
      "cell_type": "code",
      "metadata": {
        "id": "UuDT-3fxx7vm"
      },
      "source": [
        "actuals_for_submission = sampled_df[[target, \"AssociationID\"]].rename(columns = {target: \"actual_value\", \"AssociationID\": \"association_id\"})\n",
        "deployment.submit_actuals(actuals_for_submission)"
      ],
      "execution_count": null,
      "outputs": []
    },
    {
      "cell_type": "code",
      "metadata": {
        "id": "6dULhRARj6YU",
        "colab": {
          "base_uri": "https://localhost:8080/"
        },
        "outputId": "1e6734bf-6a12-4bc7-e742-abf3e3e5eb6c"
      },
      "source": [
        "print(\"https://app.datarobot.com/deployments/{}/overview\".format(os.environ[\"MLOPS_DEPLOYMENT_ID\"]))"
      ],
      "execution_count": null,
      "outputs": [
        {
          "output_type": "stream",
          "name": "stdout",
          "text": [
            "https://app.datarobot.com/deployments/61fe425df01c67f2f5765e67/overview\n"
          ]
        }
      ]
    },
    {
      "cell_type": "code",
      "metadata": {
        "colab": {
          "base_uri": "https://localhost:8080/",
          "height": 394
        },
        "id": "8dbUCW8myQtz",
        "outputId": "e8b4d89e-fdfd-41de-e5a7-bcb2ec98bad6"
      },
      "source": [
        "service_stats = deployment.get_service_stats()\n",
        "service_stats.metrics\n",
        "pd.DataFrame([service_stats.metrics]).T"
      ],
      "execution_count": null,
      "outputs": [
        {
          "output_type": "execute_result",
          "data": {
            "text/html": [
              "\n",
              "  <div id=\"df-d8c02114-9d53-46c3-bb1a-3b02f8b1dba6\">\n",
              "    <div class=\"colab-df-container\">\n",
              "      <div>\n",
              "<style scoped>\n",
              "    .dataframe tbody tr th:only-of-type {\n",
              "        vertical-align: middle;\n",
              "    }\n",
              "\n",
              "    .dataframe tbody tr th {\n",
              "        vertical-align: top;\n",
              "    }\n",
              "\n",
              "    .dataframe thead th {\n",
              "        text-align: right;\n",
              "    }\n",
              "</style>\n",
              "<table border=\"1\" class=\"dataframe\">\n",
              "  <thead>\n",
              "    <tr style=\"text-align: right;\">\n",
              "      <th></th>\n",
              "      <th>0</th>\n",
              "    </tr>\n",
              "  </thead>\n",
              "  <tbody>\n",
              "    <tr>\n",
              "      <th>totalPredictions</th>\n",
              "      <td>1238.00000</td>\n",
              "    </tr>\n",
              "    <tr>\n",
              "      <th>totalRequests</th>\n",
              "      <td>2.00000</td>\n",
              "    </tr>\n",
              "    <tr>\n",
              "      <th>slowRequests</th>\n",
              "      <td>0.00000</td>\n",
              "    </tr>\n",
              "    <tr>\n",
              "      <th>executionTime</th>\n",
              "      <td>0.00988</td>\n",
              "    </tr>\n",
              "    <tr>\n",
              "      <th>responseTime</th>\n",
              "      <td>0.00000</td>\n",
              "    </tr>\n",
              "    <tr>\n",
              "      <th>userErrorRate</th>\n",
              "      <td>0.00000</td>\n",
              "    </tr>\n",
              "    <tr>\n",
              "      <th>serverErrorRate</th>\n",
              "      <td>0.00000</td>\n",
              "    </tr>\n",
              "    <tr>\n",
              "      <th>numConsumers</th>\n",
              "      <td>1.00000</td>\n",
              "    </tr>\n",
              "    <tr>\n",
              "      <th>cacheHitRatio</th>\n",
              "      <td>0.00000</td>\n",
              "    </tr>\n",
              "    <tr>\n",
              "      <th>medianLoad</th>\n",
              "      <td>0.00000</td>\n",
              "    </tr>\n",
              "    <tr>\n",
              "      <th>peakLoad</th>\n",
              "      <td>1.00000</td>\n",
              "    </tr>\n",
              "  </tbody>\n",
              "</table>\n",
              "</div>\n",
              "      <button class=\"colab-df-convert\" onclick=\"convertToInteractive('df-d8c02114-9d53-46c3-bb1a-3b02f8b1dba6')\"\n",
              "              title=\"Convert this dataframe to an interactive table.\"\n",
              "              style=\"display:none;\">\n",
              "        \n",
              "  <svg xmlns=\"http://www.w3.org/2000/svg\" height=\"24px\"viewBox=\"0 0 24 24\"\n",
              "       width=\"24px\">\n",
              "    <path d=\"M0 0h24v24H0V0z\" fill=\"none\"/>\n",
              "    <path d=\"M18.56 5.44l.94 2.06.94-2.06 2.06-.94-2.06-.94-.94-2.06-.94 2.06-2.06.94zm-11 1L8.5 8.5l.94-2.06 2.06-.94-2.06-.94L8.5 2.5l-.94 2.06-2.06.94zm10 10l.94 2.06.94-2.06 2.06-.94-2.06-.94-.94-2.06-.94 2.06-2.06.94z\"/><path d=\"M17.41 7.96l-1.37-1.37c-.4-.4-.92-.59-1.43-.59-.52 0-1.04.2-1.43.59L10.3 9.45l-7.72 7.72c-.78.78-.78 2.05 0 2.83L4 21.41c.39.39.9.59 1.41.59.51 0 1.02-.2 1.41-.59l7.78-7.78 2.81-2.81c.8-.78.8-2.07 0-2.86zM5.41 20L4 18.59l7.72-7.72 1.47 1.35L5.41 20z\"/>\n",
              "  </svg>\n",
              "      </button>\n",
              "      \n",
              "  <style>\n",
              "    .colab-df-container {\n",
              "      display:flex;\n",
              "      flex-wrap:wrap;\n",
              "      gap: 12px;\n",
              "    }\n",
              "\n",
              "    .colab-df-convert {\n",
              "      background-color: #E8F0FE;\n",
              "      border: none;\n",
              "      border-radius: 50%;\n",
              "      cursor: pointer;\n",
              "      display: none;\n",
              "      fill: #1967D2;\n",
              "      height: 32px;\n",
              "      padding: 0 0 0 0;\n",
              "      width: 32px;\n",
              "    }\n",
              "\n",
              "    .colab-df-convert:hover {\n",
              "      background-color: #E2EBFA;\n",
              "      box-shadow: 0px 1px 2px rgba(60, 64, 67, 0.3), 0px 1px 3px 1px rgba(60, 64, 67, 0.15);\n",
              "      fill: #174EA6;\n",
              "    }\n",
              "\n",
              "    [theme=dark] .colab-df-convert {\n",
              "      background-color: #3B4455;\n",
              "      fill: #D2E3FC;\n",
              "    }\n",
              "\n",
              "    [theme=dark] .colab-df-convert:hover {\n",
              "      background-color: #434B5C;\n",
              "      box-shadow: 0px 1px 3px 1px rgba(0, 0, 0, 0.15);\n",
              "      filter: drop-shadow(0px 1px 2px rgba(0, 0, 0, 0.3));\n",
              "      fill: #FFFFFF;\n",
              "    }\n",
              "  </style>\n",
              "\n",
              "      <script>\n",
              "        const buttonEl =\n",
              "          document.querySelector('#df-d8c02114-9d53-46c3-bb1a-3b02f8b1dba6 button.colab-df-convert');\n",
              "        buttonEl.style.display =\n",
              "          google.colab.kernel.accessAllowed ? 'block' : 'none';\n",
              "\n",
              "        async function convertToInteractive(key) {\n",
              "          const element = document.querySelector('#df-d8c02114-9d53-46c3-bb1a-3b02f8b1dba6');\n",
              "          const dataTable =\n",
              "            await google.colab.kernel.invokeFunction('convertToInteractive',\n",
              "                                                     [key], {});\n",
              "          if (!dataTable) return;\n",
              "\n",
              "          const docLinkHtml = 'Like what you see? Visit the ' +\n",
              "            '<a target=\"_blank\" href=https://colab.research.google.com/notebooks/data_table.ipynb>data table notebook</a>'\n",
              "            + ' to learn more about interactive tables.';\n",
              "          element.innerHTML = '';\n",
              "          dataTable['output_type'] = 'display_data';\n",
              "          await google.colab.output.renderOutput(dataTable, element);\n",
              "          const docLink = document.createElement('div');\n",
              "          docLink.innerHTML = docLinkHtml;\n",
              "          element.appendChild(docLink);\n",
              "        }\n",
              "      </script>\n",
              "    </div>\n",
              "  </div>\n",
              "  "
            ],
            "text/plain": [
              "                           0\n",
              "totalPredictions  1238.00000\n",
              "totalRequests        2.00000\n",
              "slowRequests         0.00000\n",
              "executionTime        0.00988\n",
              "responseTime         0.00000\n",
              "userErrorRate        0.00000\n",
              "serverErrorRate      0.00000\n",
              "numConsumers         1.00000\n",
              "cacheHitRatio        0.00000\n",
              "medianLoad           0.00000\n",
              "peakLoad             1.00000"
            ]
          },
          "metadata": {},
          "execution_count": 25
        }
      ]
    },
    {
      "cell_type": "markdown",
      "metadata": {
        "id": "BEXZW8hC3VLY"
      },
      "source": [
        "## Retrieve Accuracy metrics"
      ]
    },
    {
      "cell_type": "code",
      "metadata": {
        "colab": {
          "base_uri": "https://localhost:8080/",
          "height": 457
        },
        "id": "tDWG3n24yXTy",
        "outputId": "6fc985ca-46d1-4ab8-a0a4-4ac70471d2f3"
      },
      "source": [
        "accuracy = deployment.get_accuracy_over_time()\n",
        "metrics = ['AUC', 'FVE Binomial', 'Gini Norm', 'Kolmogorov-Smirnov', 'LogLoss', 'MCC', 'PPV', 'NPV', 'TPR', 'FPR', 'F1','Rate@Top10%', 'Rate@Top5%']\n",
        "metrics_ls = []\n",
        "for metric in metrics:\n",
        "    m = deployment.get_accuracy_over_time(metric = metric)\n",
        "    start = m.summary[\"period\"][\"start\"]\n",
        "    end = m.summary[\"period\"][\"end\"]\n",
        "    temp = [metric, m.baseline[\"value\"], m.summary[\"value\"], start, end, m.summary[\"sample_size\"]]\n",
        "    metrics_ls.append(temp)     \n",
        "metrics_df = pd.DataFrame(metrics_ls, columns = [\"metric\", \"baseline\", \"value\", \"start\", \"end\", \"n\"])\n",
        "metrics_df"
      ],
      "execution_count": null,
      "outputs": [
        {
          "output_type": "execute_result",
          "data": {
            "text/html": [
              "\n",
              "  <div id=\"df-927f2c4f-22cf-4ae8-9982-83bac2e053ed\">\n",
              "    <div class=\"colab-df-container\">\n",
              "      <div>\n",
              "<style scoped>\n",
              "    .dataframe tbody tr th:only-of-type {\n",
              "        vertical-align: middle;\n",
              "    }\n",
              "\n",
              "    .dataframe tbody tr th {\n",
              "        vertical-align: top;\n",
              "    }\n",
              "\n",
              "    .dataframe thead th {\n",
              "        text-align: right;\n",
              "    }\n",
              "</style>\n",
              "<table border=\"1\" class=\"dataframe\">\n",
              "  <thead>\n",
              "    <tr style=\"text-align: right;\">\n",
              "      <th></th>\n",
              "      <th>metric</th>\n",
              "      <th>baseline</th>\n",
              "      <th>value</th>\n",
              "      <th>start</th>\n",
              "      <th>end</th>\n",
              "      <th>n</th>\n",
              "    </tr>\n",
              "  </thead>\n",
              "  <tbody>\n",
              "    <tr>\n",
              "      <th>0</th>\n",
              "      <td>AUC</td>\n",
              "      <td>None</td>\n",
              "      <td>0.914196</td>\n",
              "      <td>2022-01-30 09:00:00+00:00</td>\n",
              "      <td>2022-02-06 09:00:00+00:00</td>\n",
              "      <td>1238</td>\n",
              "    </tr>\n",
              "    <tr>\n",
              "      <th>1</th>\n",
              "      <td>FVE Binomial</td>\n",
              "      <td>None</td>\n",
              "      <td>0.369527</td>\n",
              "      <td>2022-01-30 09:00:00+00:00</td>\n",
              "      <td>2022-02-06 09:00:00+00:00</td>\n",
              "      <td>1238</td>\n",
              "    </tr>\n",
              "    <tr>\n",
              "      <th>2</th>\n",
              "      <td>Gini Norm</td>\n",
              "      <td>None</td>\n",
              "      <td>0.828393</td>\n",
              "      <td>2022-01-30 09:00:00+00:00</td>\n",
              "      <td>2022-02-06 09:00:00+00:00</td>\n",
              "      <td>1238</td>\n",
              "    </tr>\n",
              "    <tr>\n",
              "      <th>3</th>\n",
              "      <td>Kolmogorov-Smirnov</td>\n",
              "      <td>None</td>\n",
              "      <td>0.710703</td>\n",
              "      <td>2022-01-30 09:00:00+00:00</td>\n",
              "      <td>2022-02-06 09:00:00+00:00</td>\n",
              "      <td>1238</td>\n",
              "    </tr>\n",
              "    <tr>\n",
              "      <th>4</th>\n",
              "      <td>LogLoss</td>\n",
              "      <td>None</td>\n",
              "      <td>0.212900</td>\n",
              "      <td>2022-01-30 09:00:00+00:00</td>\n",
              "      <td>2022-02-06 09:00:00+00:00</td>\n",
              "      <td>1238</td>\n",
              "    </tr>\n",
              "    <tr>\n",
              "      <th>5</th>\n",
              "      <td>MCC</td>\n",
              "      <td>None</td>\n",
              "      <td>0.391595</td>\n",
              "      <td>2022-01-30 09:00:00+00:00</td>\n",
              "      <td>2022-02-06 09:00:00+00:00</td>\n",
              "      <td>1238</td>\n",
              "    </tr>\n",
              "    <tr>\n",
              "      <th>6</th>\n",
              "      <td>PPV</td>\n",
              "      <td>None</td>\n",
              "      <td>0.784757</td>\n",
              "      <td>2022-01-30 09:00:00+00:00</td>\n",
              "      <td>2022-02-06 09:00:00+00:00</td>\n",
              "      <td>1238</td>\n",
              "    </tr>\n",
              "    <tr>\n",
              "      <th>7</th>\n",
              "      <td>NPV</td>\n",
              "      <td>None</td>\n",
              "      <td>0.915555</td>\n",
              "      <td>2022-01-30 09:00:00+00:00</td>\n",
              "      <td>2022-02-06 09:00:00+00:00</td>\n",
              "      <td>1238</td>\n",
              "    </tr>\n",
              "    <tr>\n",
              "      <th>8</th>\n",
              "      <td>TPR</td>\n",
              "      <td>None</td>\n",
              "      <td>0.226315</td>\n",
              "      <td>2022-01-30 09:00:00+00:00</td>\n",
              "      <td>2022-02-06 09:00:00+00:00</td>\n",
              "      <td>1238</td>\n",
              "    </tr>\n",
              "    <tr>\n",
              "      <th>9</th>\n",
              "      <td>FPR</td>\n",
              "      <td>None</td>\n",
              "      <td>0.007346</td>\n",
              "      <td>2022-01-30 09:00:00+00:00</td>\n",
              "      <td>2022-02-06 09:00:00+00:00</td>\n",
              "      <td>1238</td>\n",
              "    </tr>\n",
              "    <tr>\n",
              "      <th>10</th>\n",
              "      <td>F1</td>\n",
              "      <td>None</td>\n",
              "      <td>0.351315</td>\n",
              "      <td>2022-01-30 09:00:00+00:00</td>\n",
              "      <td>2022-02-06 09:00:00+00:00</td>\n",
              "      <td>1238</td>\n",
              "    </tr>\n",
              "    <tr>\n",
              "      <th>11</th>\n",
              "      <td>Rate@Top10%</td>\n",
              "      <td>None</td>\n",
              "      <td>0.564516</td>\n",
              "      <td>2022-01-30 09:00:00+00:00</td>\n",
              "      <td>2022-02-06 09:00:00+00:00</td>\n",
              "      <td>1238</td>\n",
              "    </tr>\n",
              "    <tr>\n",
              "      <th>12</th>\n",
              "      <td>Rate@Top5%</td>\n",
              "      <td>None</td>\n",
              "      <td>0.741935</td>\n",
              "      <td>2022-01-30 09:00:00+00:00</td>\n",
              "      <td>2022-02-06 09:00:00+00:00</td>\n",
              "      <td>1238</td>\n",
              "    </tr>\n",
              "  </tbody>\n",
              "</table>\n",
              "</div>\n",
              "      <button class=\"colab-df-convert\" onclick=\"convertToInteractive('df-927f2c4f-22cf-4ae8-9982-83bac2e053ed')\"\n",
              "              title=\"Convert this dataframe to an interactive table.\"\n",
              "              style=\"display:none;\">\n",
              "        \n",
              "  <svg xmlns=\"http://www.w3.org/2000/svg\" height=\"24px\"viewBox=\"0 0 24 24\"\n",
              "       width=\"24px\">\n",
              "    <path d=\"M0 0h24v24H0V0z\" fill=\"none\"/>\n",
              "    <path d=\"M18.56 5.44l.94 2.06.94-2.06 2.06-.94-2.06-.94-.94-2.06-.94 2.06-2.06.94zm-11 1L8.5 8.5l.94-2.06 2.06-.94-2.06-.94L8.5 2.5l-.94 2.06-2.06.94zm10 10l.94 2.06.94-2.06 2.06-.94-2.06-.94-.94-2.06-.94 2.06-2.06.94z\"/><path d=\"M17.41 7.96l-1.37-1.37c-.4-.4-.92-.59-1.43-.59-.52 0-1.04.2-1.43.59L10.3 9.45l-7.72 7.72c-.78.78-.78 2.05 0 2.83L4 21.41c.39.39.9.59 1.41.59.51 0 1.02-.2 1.41-.59l7.78-7.78 2.81-2.81c.8-.78.8-2.07 0-2.86zM5.41 20L4 18.59l7.72-7.72 1.47 1.35L5.41 20z\"/>\n",
              "  </svg>\n",
              "      </button>\n",
              "      \n",
              "  <style>\n",
              "    .colab-df-container {\n",
              "      display:flex;\n",
              "      flex-wrap:wrap;\n",
              "      gap: 12px;\n",
              "    }\n",
              "\n",
              "    .colab-df-convert {\n",
              "      background-color: #E8F0FE;\n",
              "      border: none;\n",
              "      border-radius: 50%;\n",
              "      cursor: pointer;\n",
              "      display: none;\n",
              "      fill: #1967D2;\n",
              "      height: 32px;\n",
              "      padding: 0 0 0 0;\n",
              "      width: 32px;\n",
              "    }\n",
              "\n",
              "    .colab-df-convert:hover {\n",
              "      background-color: #E2EBFA;\n",
              "      box-shadow: 0px 1px 2px rgba(60, 64, 67, 0.3), 0px 1px 3px 1px rgba(60, 64, 67, 0.15);\n",
              "      fill: #174EA6;\n",
              "    }\n",
              "\n",
              "    [theme=dark] .colab-df-convert {\n",
              "      background-color: #3B4455;\n",
              "      fill: #D2E3FC;\n",
              "    }\n",
              "\n",
              "    [theme=dark] .colab-df-convert:hover {\n",
              "      background-color: #434B5C;\n",
              "      box-shadow: 0px 1px 3px 1px rgba(0, 0, 0, 0.15);\n",
              "      filter: drop-shadow(0px 1px 2px rgba(0, 0, 0, 0.3));\n",
              "      fill: #FFFFFF;\n",
              "    }\n",
              "  </style>\n",
              "\n",
              "      <script>\n",
              "        const buttonEl =\n",
              "          document.querySelector('#df-927f2c4f-22cf-4ae8-9982-83bac2e053ed button.colab-df-convert');\n",
              "        buttonEl.style.display =\n",
              "          google.colab.kernel.accessAllowed ? 'block' : 'none';\n",
              "\n",
              "        async function convertToInteractive(key) {\n",
              "          const element = document.querySelector('#df-927f2c4f-22cf-4ae8-9982-83bac2e053ed');\n",
              "          const dataTable =\n",
              "            await google.colab.kernel.invokeFunction('convertToInteractive',\n",
              "                                                     [key], {});\n",
              "          if (!dataTable) return;\n",
              "\n",
              "          const docLinkHtml = 'Like what you see? Visit the ' +\n",
              "            '<a target=\"_blank\" href=https://colab.research.google.com/notebooks/data_table.ipynb>data table notebook</a>'\n",
              "            + ' to learn more about interactive tables.';\n",
              "          element.innerHTML = '';\n",
              "          dataTable['output_type'] = 'display_data';\n",
              "          await google.colab.output.renderOutput(dataTable, element);\n",
              "          const docLink = document.createElement('div');\n",
              "          docLink.innerHTML = docLinkHtml;\n",
              "          element.appendChild(docLink);\n",
              "        }\n",
              "      </script>\n",
              "    </div>\n",
              "  </div>\n",
              "  "
            ],
            "text/plain": [
              "                metric baseline  ...                       end     n\n",
              "0                  AUC     None  ... 2022-02-06 09:00:00+00:00  1238\n",
              "1         FVE Binomial     None  ... 2022-02-06 09:00:00+00:00  1238\n",
              "2            Gini Norm     None  ... 2022-02-06 09:00:00+00:00  1238\n",
              "3   Kolmogorov-Smirnov     None  ... 2022-02-06 09:00:00+00:00  1238\n",
              "4              LogLoss     None  ... 2022-02-06 09:00:00+00:00  1238\n",
              "5                  MCC     None  ... 2022-02-06 09:00:00+00:00  1238\n",
              "6                  PPV     None  ... 2022-02-06 09:00:00+00:00  1238\n",
              "7                  NPV     None  ... 2022-02-06 09:00:00+00:00  1238\n",
              "8                  TPR     None  ... 2022-02-06 09:00:00+00:00  1238\n",
              "9                  FPR     None  ... 2022-02-06 09:00:00+00:00  1238\n",
              "10                  F1     None  ... 2022-02-06 09:00:00+00:00  1238\n",
              "11         Rate@Top10%     None  ... 2022-02-06 09:00:00+00:00  1238\n",
              "12          Rate@Top5%     None  ... 2022-02-06 09:00:00+00:00  1238\n",
              "\n",
              "[13 rows x 6 columns]"
            ]
          },
          "metadata": {},
          "execution_count": 26
        }
      ]
    },
    {
      "cell_type": "markdown",
      "metadata": {
        "id": "3PLhLDLr3YfV"
      },
      "source": [
        "## Retrieve Drift Metrics"
      ]
    },
    {
      "cell_type": "code",
      "metadata": {
        "colab": {
          "base_uri": "https://localhost:8080/",
          "height": 802
        },
        "id": "H0pXSLrJyf8R",
        "outputId": "2387e58c-aeb0-478f-8561-fa8a4a2b2fd3"
      },
      "source": [
        "feature_drift = deployment.get_feature_drift()\n",
        "fd_ls = [[fd.name, fd.metric, fd.drift_score, fd.feature_impact, fd.period[\"start\"], fd.period[\"end\"]] for fd in feature_drift]\n",
        "drift_df = pd.DataFrame(fd_ls, columns = [\"feature\", \"drift_metric\", \"drift_score\", \"feature Importance\", \"start\", \"end\"])\n",
        "drift_df"
      ],
      "execution_count": null,
      "outputs": [
        {
          "output_type": "execute_result",
          "data": {
            "text/html": [
              "\n",
              "  <div id=\"df-4a0f3b02-1e03-4f54-b500-d11463da4cf8\">\n",
              "    <div class=\"colab-df-container\">\n",
              "      <div>\n",
              "<style scoped>\n",
              "    .dataframe tbody tr th:only-of-type {\n",
              "        vertical-align: middle;\n",
              "    }\n",
              "\n",
              "    .dataframe tbody tr th {\n",
              "        vertical-align: top;\n",
              "    }\n",
              "\n",
              "    .dataframe thead th {\n",
              "        text-align: right;\n",
              "    }\n",
              "</style>\n",
              "<table border=\"1\" class=\"dataframe\">\n",
              "  <thead>\n",
              "    <tr style=\"text-align: right;\">\n",
              "      <th></th>\n",
              "      <th>feature</th>\n",
              "      <th>drift_metric</th>\n",
              "      <th>drift_score</th>\n",
              "      <th>feature Importance</th>\n",
              "      <th>start</th>\n",
              "      <th>end</th>\n",
              "    </tr>\n",
              "  </thead>\n",
              "  <tbody>\n",
              "    <tr>\n",
              "      <th>0</th>\n",
              "      <td>ID</td>\n",
              "      <td>psi</td>\n",
              "      <td>0.009426</td>\n",
              "      <td>1.000000</td>\n",
              "      <td>2022-01-30 09:00:00+00:00</td>\n",
              "      <td>2022-02-06 09:00:00+00:00</td>\n",
              "    </tr>\n",
              "    <tr>\n",
              "      <th>1</th>\n",
              "      <td>Vendor</td>\n",
              "      <td>psi</td>\n",
              "      <td>0.044469</td>\n",
              "      <td>0.628645</td>\n",
              "      <td>2022-01-30 09:00:00+00:00</td>\n",
              "      <td>2022-02-06 09:00:00+00:00</td>\n",
              "    </tr>\n",
              "    <tr>\n",
              "      <th>2</th>\n",
              "      <td>Vendor INCO Term</td>\n",
              "      <td>psi</td>\n",
              "      <td>0.002249</td>\n",
              "      <td>0.495845</td>\n",
              "      <td>2022-01-30 09:00:00+00:00</td>\n",
              "      <td>2022-02-06 09:00:00+00:00</td>\n",
              "    </tr>\n",
              "    <tr>\n",
              "      <th>3</th>\n",
              "      <td>Fulfill Via</td>\n",
              "      <td>psi</td>\n",
              "      <td>0.000499</td>\n",
              "      <td>0.405302</td>\n",
              "      <td>2022-01-30 09:00:00+00:00</td>\n",
              "      <td>2022-02-06 09:00:00+00:00</td>\n",
              "    </tr>\n",
              "    <tr>\n",
              "      <th>4</th>\n",
              "      <td>Pack Price</td>\n",
              "      <td>psi</td>\n",
              "      <td>0.005788</td>\n",
              "      <td>0.355843</td>\n",
              "      <td>2022-01-30 09:00:00+00:00</td>\n",
              "      <td>2022-02-06 09:00:00+00:00</td>\n",
              "    </tr>\n",
              "    <tr>\n",
              "      <th>5</th>\n",
              "      <td>Line Item Quantity</td>\n",
              "      <td>psi</td>\n",
              "      <td>0.006470</td>\n",
              "      <td>0.288750</td>\n",
              "      <td>2022-01-30 09:00:00+00:00</td>\n",
              "      <td>2022-02-06 09:00:00+00:00</td>\n",
              "    </tr>\n",
              "    <tr>\n",
              "      <th>6</th>\n",
              "      <td>Manufacturing Site</td>\n",
              "      <td>psi</td>\n",
              "      <td>0.062426</td>\n",
              "      <td>0.280061</td>\n",
              "      <td>2022-01-30 09:00:00+00:00</td>\n",
              "      <td>2022-02-06 09:00:00+00:00</td>\n",
              "    </tr>\n",
              "    <tr>\n",
              "      <th>7</th>\n",
              "      <td>Unit Price</td>\n",
              "      <td>psi</td>\n",
              "      <td>0.003680</td>\n",
              "      <td>0.267768</td>\n",
              "      <td>2022-01-30 09:00:00+00:00</td>\n",
              "      <td>2022-02-06 09:00:00+00:00</td>\n",
              "    </tr>\n",
              "    <tr>\n",
              "      <th>8</th>\n",
              "      <td>Item Description</td>\n",
              "      <td>psi</td>\n",
              "      <td>0.027205</td>\n",
              "      <td>0.234614</td>\n",
              "      <td>2022-01-30 09:00:00+00:00</td>\n",
              "      <td>2022-02-06 09:00:00+00:00</td>\n",
              "    </tr>\n",
              "    <tr>\n",
              "      <th>9</th>\n",
              "      <td>Brand</td>\n",
              "      <td>psi</td>\n",
              "      <td>0.044480</td>\n",
              "      <td>0.226124</td>\n",
              "      <td>2022-01-30 09:00:00+00:00</td>\n",
              "      <td>2022-02-06 09:00:00+00:00</td>\n",
              "    </tr>\n",
              "    <tr>\n",
              "      <th>10</th>\n",
              "      <td>Country</td>\n",
              "      <td>psi</td>\n",
              "      <td>0.024657</td>\n",
              "      <td>0.218545</td>\n",
              "      <td>2022-01-30 09:00:00+00:00</td>\n",
              "      <td>2022-02-06 09:00:00+00:00</td>\n",
              "    </tr>\n",
              "    <tr>\n",
              "      <th>11</th>\n",
              "      <td>Molecule/Test Type</td>\n",
              "      <td>psi</td>\n",
              "      <td>0.040472</td>\n",
              "      <td>0.213783</td>\n",
              "      <td>2022-01-30 09:00:00+00:00</td>\n",
              "      <td>2022-02-06 09:00:00+00:00</td>\n",
              "    </tr>\n",
              "    <tr>\n",
              "      <th>12</th>\n",
              "      <td>Dosage Form</td>\n",
              "      <td>psi</td>\n",
              "      <td>0.017619</td>\n",
              "      <td>0.160836</td>\n",
              "      <td>2022-01-30 09:00:00+00:00</td>\n",
              "      <td>2022-02-06 09:00:00+00:00</td>\n",
              "    </tr>\n",
              "    <tr>\n",
              "      <th>13</th>\n",
              "      <td>Dosage</td>\n",
              "      <td>psi</td>\n",
              "      <td>0.053124</td>\n",
              "      <td>0.153330</td>\n",
              "      <td>2022-01-30 09:00:00+00:00</td>\n",
              "      <td>2022-02-06 09:00:00+00:00</td>\n",
              "    </tr>\n",
              "    <tr>\n",
              "      <th>14</th>\n",
              "      <td>Line Item Insurance (USD)</td>\n",
              "      <td>psi</td>\n",
              "      <td>0.012947</td>\n",
              "      <td>0.135426</td>\n",
              "      <td>2022-01-30 09:00:00+00:00</td>\n",
              "      <td>2022-02-06 09:00:00+00:00</td>\n",
              "    </tr>\n",
              "    <tr>\n",
              "      <th>15</th>\n",
              "      <td>Line Item Value</td>\n",
              "      <td>psi</td>\n",
              "      <td>0.005007</td>\n",
              "      <td>0.129283</td>\n",
              "      <td>2022-01-30 09:00:00+00:00</td>\n",
              "      <td>2022-02-06 09:00:00+00:00</td>\n",
              "    </tr>\n",
              "    <tr>\n",
              "      <th>16</th>\n",
              "      <td>Shipment Mode</td>\n",
              "      <td>psi</td>\n",
              "      <td>0.004514</td>\n",
              "      <td>0.126835</td>\n",
              "      <td>2022-01-30 09:00:00+00:00</td>\n",
              "      <td>2022-02-06 09:00:00+00:00</td>\n",
              "    </tr>\n",
              "    <tr>\n",
              "      <th>17</th>\n",
              "      <td>Unit of Measure (Per Pack)</td>\n",
              "      <td>psi</td>\n",
              "      <td>0.008450</td>\n",
              "      <td>0.105374</td>\n",
              "      <td>2022-01-30 09:00:00+00:00</td>\n",
              "      <td>2022-02-06 09:00:00+00:00</td>\n",
              "    </tr>\n",
              "    <tr>\n",
              "      <th>18</th>\n",
              "      <td>Weight (Kilograms)</td>\n",
              "      <td>psi</td>\n",
              "      <td>0.003686</td>\n",
              "      <td>0.094263</td>\n",
              "      <td>2022-01-30 09:00:00+00:00</td>\n",
              "      <td>2022-02-06 09:00:00+00:00</td>\n",
              "    </tr>\n",
              "    <tr>\n",
              "      <th>19</th>\n",
              "      <td>Product Group</td>\n",
              "      <td>psi</td>\n",
              "      <td>0.004956</td>\n",
              "      <td>0.092711</td>\n",
              "      <td>2022-01-30 09:00:00+00:00</td>\n",
              "      <td>2022-02-06 09:00:00+00:00</td>\n",
              "    </tr>\n",
              "    <tr>\n",
              "      <th>20</th>\n",
              "      <td>Sub Classification</td>\n",
              "      <td>psi</td>\n",
              "      <td>0.005298</td>\n",
              "      <td>0.082826</td>\n",
              "      <td>2022-01-30 09:00:00+00:00</td>\n",
              "      <td>2022-02-06 09:00:00+00:00</td>\n",
              "    </tr>\n",
              "    <tr>\n",
              "      <th>21</th>\n",
              "      <td>Freight Cost (USD)</td>\n",
              "      <td>psi</td>\n",
              "      <td>0.029594</td>\n",
              "      <td>0.025933</td>\n",
              "      <td>2022-01-30 09:00:00+00:00</td>\n",
              "      <td>2022-02-06 09:00:00+00:00</td>\n",
              "    </tr>\n",
              "    <tr>\n",
              "      <th>22</th>\n",
              "      <td>Managed By</td>\n",
              "      <td>psi</td>\n",
              "      <td>0.002551</td>\n",
              "      <td>0.000775</td>\n",
              "      <td>2022-01-30 09:00:00+00:00</td>\n",
              "      <td>2022-02-06 09:00:00+00:00</td>\n",
              "    </tr>\n",
              "    <tr>\n",
              "      <th>23</th>\n",
              "      <td>First Line Designation</td>\n",
              "      <td>psi</td>\n",
              "      <td>0.000319</td>\n",
              "      <td>0.000000</td>\n",
              "      <td>2022-01-30 09:00:00+00:00</td>\n",
              "      <td>2022-02-06 09:00:00+00:00</td>\n",
              "    </tr>\n",
              "  </tbody>\n",
              "</table>\n",
              "</div>\n",
              "      <button class=\"colab-df-convert\" onclick=\"convertToInteractive('df-4a0f3b02-1e03-4f54-b500-d11463da4cf8')\"\n",
              "              title=\"Convert this dataframe to an interactive table.\"\n",
              "              style=\"display:none;\">\n",
              "        \n",
              "  <svg xmlns=\"http://www.w3.org/2000/svg\" height=\"24px\"viewBox=\"0 0 24 24\"\n",
              "       width=\"24px\">\n",
              "    <path d=\"M0 0h24v24H0V0z\" fill=\"none\"/>\n",
              "    <path d=\"M18.56 5.44l.94 2.06.94-2.06 2.06-.94-2.06-.94-.94-2.06-.94 2.06-2.06.94zm-11 1L8.5 8.5l.94-2.06 2.06-.94-2.06-.94L8.5 2.5l-.94 2.06-2.06.94zm10 10l.94 2.06.94-2.06 2.06-.94-2.06-.94-.94-2.06-.94 2.06-2.06.94z\"/><path d=\"M17.41 7.96l-1.37-1.37c-.4-.4-.92-.59-1.43-.59-.52 0-1.04.2-1.43.59L10.3 9.45l-7.72 7.72c-.78.78-.78 2.05 0 2.83L4 21.41c.39.39.9.59 1.41.59.51 0 1.02-.2 1.41-.59l7.78-7.78 2.81-2.81c.8-.78.8-2.07 0-2.86zM5.41 20L4 18.59l7.72-7.72 1.47 1.35L5.41 20z\"/>\n",
              "  </svg>\n",
              "      </button>\n",
              "      \n",
              "  <style>\n",
              "    .colab-df-container {\n",
              "      display:flex;\n",
              "      flex-wrap:wrap;\n",
              "      gap: 12px;\n",
              "    }\n",
              "\n",
              "    .colab-df-convert {\n",
              "      background-color: #E8F0FE;\n",
              "      border: none;\n",
              "      border-radius: 50%;\n",
              "      cursor: pointer;\n",
              "      display: none;\n",
              "      fill: #1967D2;\n",
              "      height: 32px;\n",
              "      padding: 0 0 0 0;\n",
              "      width: 32px;\n",
              "    }\n",
              "\n",
              "    .colab-df-convert:hover {\n",
              "      background-color: #E2EBFA;\n",
              "      box-shadow: 0px 1px 2px rgba(60, 64, 67, 0.3), 0px 1px 3px 1px rgba(60, 64, 67, 0.15);\n",
              "      fill: #174EA6;\n",
              "    }\n",
              "\n",
              "    [theme=dark] .colab-df-convert {\n",
              "      background-color: #3B4455;\n",
              "      fill: #D2E3FC;\n",
              "    }\n",
              "\n",
              "    [theme=dark] .colab-df-convert:hover {\n",
              "      background-color: #434B5C;\n",
              "      box-shadow: 0px 1px 3px 1px rgba(0, 0, 0, 0.15);\n",
              "      filter: drop-shadow(0px 1px 2px rgba(0, 0, 0, 0.3));\n",
              "      fill: #FFFFFF;\n",
              "    }\n",
              "  </style>\n",
              "\n",
              "      <script>\n",
              "        const buttonEl =\n",
              "          document.querySelector('#df-4a0f3b02-1e03-4f54-b500-d11463da4cf8 button.colab-df-convert');\n",
              "        buttonEl.style.display =\n",
              "          google.colab.kernel.accessAllowed ? 'block' : 'none';\n",
              "\n",
              "        async function convertToInteractive(key) {\n",
              "          const element = document.querySelector('#df-4a0f3b02-1e03-4f54-b500-d11463da4cf8');\n",
              "          const dataTable =\n",
              "            await google.colab.kernel.invokeFunction('convertToInteractive',\n",
              "                                                     [key], {});\n",
              "          if (!dataTable) return;\n",
              "\n",
              "          const docLinkHtml = 'Like what you see? Visit the ' +\n",
              "            '<a target=\"_blank\" href=https://colab.research.google.com/notebooks/data_table.ipynb>data table notebook</a>'\n",
              "            + ' to learn more about interactive tables.';\n",
              "          element.innerHTML = '';\n",
              "          dataTable['output_type'] = 'display_data';\n",
              "          await google.colab.output.renderOutput(dataTable, element);\n",
              "          const docLink = document.createElement('div');\n",
              "          docLink.innerHTML = docLinkHtml;\n",
              "          element.appendChild(docLink);\n",
              "        }\n",
              "      </script>\n",
              "    </div>\n",
              "  </div>\n",
              "  "
            ],
            "text/plain": [
              "                       feature  ...                       end\n",
              "0                           ID  ... 2022-02-06 09:00:00+00:00\n",
              "1                       Vendor  ... 2022-02-06 09:00:00+00:00\n",
              "2             Vendor INCO Term  ... 2022-02-06 09:00:00+00:00\n",
              "3                  Fulfill Via  ... 2022-02-06 09:00:00+00:00\n",
              "4                   Pack Price  ... 2022-02-06 09:00:00+00:00\n",
              "5           Line Item Quantity  ... 2022-02-06 09:00:00+00:00\n",
              "6           Manufacturing Site  ... 2022-02-06 09:00:00+00:00\n",
              "7                   Unit Price  ... 2022-02-06 09:00:00+00:00\n",
              "8             Item Description  ... 2022-02-06 09:00:00+00:00\n",
              "9                        Brand  ... 2022-02-06 09:00:00+00:00\n",
              "10                     Country  ... 2022-02-06 09:00:00+00:00\n",
              "11          Molecule/Test Type  ... 2022-02-06 09:00:00+00:00\n",
              "12                 Dosage Form  ... 2022-02-06 09:00:00+00:00\n",
              "13                      Dosage  ... 2022-02-06 09:00:00+00:00\n",
              "14   Line Item Insurance (USD)  ... 2022-02-06 09:00:00+00:00\n",
              "15             Line Item Value  ... 2022-02-06 09:00:00+00:00\n",
              "16               Shipment Mode  ... 2022-02-06 09:00:00+00:00\n",
              "17  Unit of Measure (Per Pack)  ... 2022-02-06 09:00:00+00:00\n",
              "18          Weight (Kilograms)  ... 2022-02-06 09:00:00+00:00\n",
              "19               Product Group  ... 2022-02-06 09:00:00+00:00\n",
              "20          Sub Classification  ... 2022-02-06 09:00:00+00:00\n",
              "21          Freight Cost (USD)  ... 2022-02-06 09:00:00+00:00\n",
              "22                  Managed By  ... 2022-02-06 09:00:00+00:00\n",
              "23      First Line Designation  ... 2022-02-06 09:00:00+00:00\n",
              "\n",
              "[24 rows x 6 columns]"
            ]
          },
          "metadata": {},
          "execution_count": 27
        }
      ]
    },
    {
      "cell_type": "code",
      "source": [
        ""
      ],
      "metadata": {
        "id": "xM2mFtP7rCQw"
      },
      "execution_count": null,
      "outputs": []
    }
  ]
}