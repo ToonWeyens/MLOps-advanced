{
  "cells": [
    {
      "cell_type": "markdown",
      "metadata": {
        "id": "WoX9GdqqS__K"
      },
      "source": [
        "## Using MLOps DRUM to test your custom models\n",
        "**Author**: Tim Whittaker\n",
        "\n",
        "#### Scope\n",
        "We'll get our hands dirty by:\n",
        "\n",
        "* Building a simple regression model using Scikit\n",
        "* Using DRUM for Batch Scoring\n",
        "* Using DRUM to get a REST API endpoint\n",
        "* Show a simple example app connected to the REST API\n",
        "* H2O, Keras, XGBoost, and DataRobot\n",
        "* Add a DataRobot remote agent if you are interested in further model monitoring\n",
        "\n"
      ]
    },
    {
      "cell_type": "code",
      "execution_count": null,
      "metadata": {
        "id": "40MDHiuR2dpZ"
      },
      "outputs": [],
      "source": [
        "!pip uninstall pandas pyarrow -y -q"
      ]
    },
    {
      "cell_type": "code",
      "execution_count": null,
      "metadata": {
        "colab": {
          "base_uri": "https://localhost:8080/"
        },
        "id": "ZYcmuaH8zsh-",
        "outputId": "1c462b62-e820-4282-b5c7-c72073f8eb99"
      },
      "outputs": [
        {
          "name": "stdout",
          "output_type": "stream",
          "text": [
            "\u001b[K     |████████████████████████████████| 9.8 MB 6.3 MB/s \n",
            "\u001b[K     |████████████████████████████████| 17.7 MB 406 kB/s \n",
            "\u001b[K     |████████████████████████████████| 4.3 MB 42.1 MB/s \n",
            "\u001b[K     |████████████████████████████████| 378 kB 46.1 MB/s \n",
            "\u001b[K     |████████████████████████████████| 147 kB 45.1 MB/s \n",
            "\u001b[K     |████████████████████████████████| 50 kB 3.7 MB/s \n",
            "\u001b[K     |████████████████████████████████| 781 kB 40.5 MB/s \n",
            "\u001b[K     |████████████████████████████████| 10.8 MB 31.1 MB/s \n",
            "\u001b[K     |████████████████████████████████| 67 kB 4.7 MB/s \n",
            "\u001b[K     |████████████████████████████████| 198 kB 45.9 MB/s \n",
            "\u001b[K     |████████████████████████████████| 101 kB 10.9 MB/s \n",
            "\u001b[K     |████████████████████████████████| 546 kB 59.8 MB/s \n",
            "\u001b[K     |████████████████████████████████| 49 kB 4.3 MB/s \n",
            "\u001b[K     |████████████████████████████████| 54 kB 2.8 MB/s \n",
            "\u001b[K     |████████████████████████████████| 53 kB 1.7 MB/s \n",
            "\u001b[?25h  Building wheel for strictyaml (setup.py) ... \u001b[?25l\u001b[?25hdone\n",
            "  Building wheel for memory-profiler (setup.py) ... \u001b[?25l\u001b[?25hdone\n",
            "  Building wheel for progress (setup.py) ... \u001b[?25l\u001b[?25hdone\n",
            "\u001b[31mERROR: pip's dependency resolver does not currently take into account all the packages that are installed. This behaviour is the source of the following dependency conflicts.\n",
            "markdown 3.3.6 requires importlib-metadata>=4.4; python_version < \"3.10\", but you have importlib-metadata 1.7.0 which is incompatible.\n",
            "datascience 0.10.6 requires folium==0.2.1, but you have folium 0.8.3 which is incompatible.\n",
            "albumentations 0.1.12 requires imgaug<0.2.7,>=0.2.5, but you have imgaug 0.2.9 which is incompatible.\u001b[0m\n"
          ]
        }
      ],
      "source": [
        "!pip install datarobot-drum -q"
      ]
    },
    {
      "cell_type": "code",
      "execution_count": null,
      "metadata": {
        "colab": {
          "base_uri": "https://localhost:8080/"
        },
        "id": "piYauzyp0A2_",
        "outputId": "0c7c09f6-b25e-4b61-dd11-844e061b7157"
      },
      "outputs": [
        {
          "name": "stdout",
          "output_type": "stream",
          "text": [
            "\u001b[?25l\r\u001b[K     |▊                               | 10 kB 26.0 MB/s eta 0:00:01\r\u001b[K     |█▍                              | 20 kB 30.5 MB/s eta 0:00:01\r\u001b[K     |██▏                             | 30 kB 36.4 MB/s eta 0:00:01\r\u001b[K     |██▉                             | 40 kB 22.0 MB/s eta 0:00:01\r\u001b[K     |███▌                            | 51 kB 11.6 MB/s eta 0:00:01\r\u001b[K     |████▎                           | 61 kB 13.3 MB/s eta 0:00:01\r\u001b[K     |█████                           | 71 kB 9.9 MB/s eta 0:00:01\r\u001b[K     |█████▊                          | 81 kB 10.9 MB/s eta 0:00:01\r\u001b[K     |██████▍                         | 92 kB 12.0 MB/s eta 0:00:01\r\u001b[K     |███████                         | 102 kB 10.2 MB/s eta 0:00:01\r\u001b[K     |███████▉                        | 112 kB 10.2 MB/s eta 0:00:01\r\u001b[K     |████████▌                       | 122 kB 10.2 MB/s eta 0:00:01\r\u001b[K     |█████████▏                      | 133 kB 10.2 MB/s eta 0:00:01\r\u001b[K     |██████████                      | 143 kB 10.2 MB/s eta 0:00:01\r\u001b[K     |██████████▋                     | 153 kB 10.2 MB/s eta 0:00:01\r\u001b[K     |███████████▍                    | 163 kB 10.2 MB/s eta 0:00:01\r\u001b[K     |████████████                    | 174 kB 10.2 MB/s eta 0:00:01\r\u001b[K     |████████████▊                   | 184 kB 10.2 MB/s eta 0:00:01\r\u001b[K     |█████████████▌                  | 194 kB 10.2 MB/s eta 0:00:01\r\u001b[K     |██████████████▏                 | 204 kB 10.2 MB/s eta 0:00:01\r\u001b[K     |██████████████▉                 | 215 kB 10.2 MB/s eta 0:00:01\r\u001b[K     |███████████████▋                | 225 kB 10.2 MB/s eta 0:00:01\r\u001b[K     |████████████████▎               | 235 kB 10.2 MB/s eta 0:00:01\r\u001b[K     |█████████████████               | 245 kB 10.2 MB/s eta 0:00:01\r\u001b[K     |█████████████████▊              | 256 kB 10.2 MB/s eta 0:00:01\r\u001b[K     |██████████████████▍             | 266 kB 10.2 MB/s eta 0:00:01\r\u001b[K     |███████████████████▏            | 276 kB 10.2 MB/s eta 0:00:01\r\u001b[K     |███████████████████▉            | 286 kB 10.2 MB/s eta 0:00:01\r\u001b[K     |████████████████████▌           | 296 kB 10.2 MB/s eta 0:00:01\r\u001b[K     |█████████████████████▎          | 307 kB 10.2 MB/s eta 0:00:01\r\u001b[K     |██████████████████████          | 317 kB 10.2 MB/s eta 0:00:01\r\u001b[K     |██████████████████████▊         | 327 kB 10.2 MB/s eta 0:00:01\r\u001b[K     |███████████████████████▍        | 337 kB 10.2 MB/s eta 0:00:01\r\u001b[K     |████████████████████████        | 348 kB 10.2 MB/s eta 0:00:01\r\u001b[K     |████████████████████████▉       | 358 kB 10.2 MB/s eta 0:00:01\r\u001b[K     |█████████████████████████▌      | 368 kB 10.2 MB/s eta 0:00:01\r\u001b[K     |██████████████████████████▏     | 378 kB 10.2 MB/s eta 0:00:01\r\u001b[K     |███████████████████████████     | 389 kB 10.2 MB/s eta 0:00:01\r\u001b[K     |███████████████████████████▋    | 399 kB 10.2 MB/s eta 0:00:01\r\u001b[K     |████████████████████████████▍   | 409 kB 10.2 MB/s eta 0:00:01\r\u001b[K     |█████████████████████████████   | 419 kB 10.2 MB/s eta 0:00:01\r\u001b[K     |█████████████████████████████▊  | 430 kB 10.2 MB/s eta 0:00:01\r\u001b[K     |██████████████████████████████▌ | 440 kB 10.2 MB/s eta 0:00:01\r\u001b[K     |███████████████████████████████▏| 450 kB 10.2 MB/s eta 0:00:01\r\u001b[K     |███████████████████████████████▉| 460 kB 10.2 MB/s eta 0:00:01\r\u001b[K     |████████████████████████████████| 462 kB 10.2 MB/s \n",
            "\u001b[31mERROR: pip's dependency resolver does not currently take into account all the packages that are installed. This behaviour is the source of the following dependency conflicts.\n",
            "argcomplete 1.11.1 requires importlib-metadata<2,>=0.23; python_version == \"3.7\", but you have importlib-metadata 4.11.1 which is incompatible.\u001b[0m\n",
            "\u001b[?25h"
          ]
        }
      ],
      "source": [
        "!pip install tensorflow -q"
      ]
    },
    {
      "cell_type": "code",
      "execution_count": null,
      "metadata": {
        "id": "HR0lggHP29GA"
      },
      "outputs": [],
      "source": [
        "!pip install scikit-learn -q"
      ]
    },
    {
      "cell_type": "code",
      "execution_count": null,
      "metadata": {
        "id": "D90aMa1O0bd2"
      },
      "outputs": [],
      "source": [
        "!pip install PyYAML -q"
      ]
    },
    {
      "cell_type": "code",
      "execution_count": null,
      "metadata": {
        "id": "mspf9nF10gXf"
      },
      "outputs": [],
      "source": [
        "!pip install xgboost -q"
      ]
    },
    {
      "cell_type": "markdown",
      "metadata": {
        "id": "kmrwWAkrS__N"
      },
      "source": [
        "## Train a regression model\n",
        "\n",
        "A simple RandomForestRegressor to predict house prices using the Concrete compressive strength dataset found in this paper:\n",
        "\n",
        "`I-Cheng Yeh, \"Modeling of strength of high performance concrete using artificial neural networks,\" Cement and Concrete Research, Vol. 28, No. 12, pp. 1797-1808 (1998).`."
      ]
    },
    {
      "cell_type": "code",
      "execution_count": null,
      "metadata": {
        "colab": {
          "base_uri": "https://localhost:8080/"
        },
        "id": "SVvdQgHtS__N",
        "outputId": "1a6f628d-c958-485d-fc4c-6ea51d4cde3b"
      },
      "outputs": [
        {
          "data": {
            "text/plain": [
              "array([49.82509346, 16.17489519, 30.26148085, 10.86747245,  4.08555209,\n",
              "       25.16874222, 41.43588339,  5.80623598, 33.4288026 , 35.72417162,\n",
              "       51.30772196, 19.29676668,  9.84905434,  9.02206925, 40.05919681,\n",
              "        9.74501242,  5.77914646, 10.02351246, 43.37829291, 48.58469855,\n",
              "       12.48972674, 16.54577615, 27.35344345, 36.08659468, 38.22351523,\n",
              "       14.20869383, 16.87669016, 32.05100202, 38.03291648, 39.37887016,\n",
              "       14.92698993, 12.01591194, 33.75278737, 40.07624755, 40.62613224,\n",
              "       11.6422711 , 17.58414769, 17.84625199, 24.72558152, 26.545481  ,\n",
              "       45.04287807, 52.88341594, 36.666968  , 14.95502402, 22.91273538,\n",
              "       17.32868305, 26.51189466, 34.3441332 , 36.85799422, 45.51898193,\n",
              "       52.17451051, 56.35563086, 66.55284301, 68.96538848, 70.67135895,\n",
              "       72.50357247, 18.86535957, 23.26905658, 28.70276177, 30.22302385,\n",
              "       31.55678562, 32.45887534, 10.00872911, 16.79444552, 23.93053296,\n",
              "       26.72652361, 34.35783703, 39.21809125, 40.40861635, 15.13982427,\n",
              "       13.69476531, 24.38069184, 37.2140741 , 14.61260266, 22.81136862,\n",
              "       20.76173573, 31.75334144, 15.56196285, 26.07924354, 17.60565934,\n",
              "       15.62751823, 23.36701043, 29.85319385, 13.86027797, 16.54165998,\n",
              "       31.6616825 , 37.39000769, 17.00800086, 33.24505724, 39.5230258 ,\n",
              "       40.86813832, 41.71120199, 19.59814846, 28.68986168, 61.27938582,\n",
              "       48.69593861, 50.4693743 , 53.88041202, 39.46906544, 12.90315034,\n",
              "       19.67379776, 31.73025089, 19.91513997, 39.16760782, 47.7864715 ,\n",
              "       23.99439222, 38.56666743, 11.87281809, 19.67379776, 15.67978051,\n",
              "       28.08530154, 35.31386445, 37.14516787, 37.77046055, 34.22072685,\n",
              "       42.31119386, 46.11840843, 55.85771198, 58.95137011, 64.96787558,\n",
              "       21.35403699, 26.38400572, 30.67765546, 23.49643197, 38.72823924,\n",
              "       24.70993042, 49.12183582, 70.3416791 , 37.46214067, 33.86297942,\n",
              "       19.84099569, 20.70618465, 36.46115941, 37.39173827, 16.39484296,\n",
              "       35.03770174, 39.66674707, 29.47754664, 27.04046961, 44.87486951,\n",
              "       30.8212871 , 15.92930877, 42.55951258, 51.49620402, 56.10013864,\n",
              "       63.62156337, 51.45115365, 34.07477266, 20.9294163 , 36.57574343,\n",
              "       33.5568176 , 41.22674168, 38.79791079, 42.02193504, 60.14762476,\n",
              "       41.2788247 , 32.78934118, 51.18323707, 16.19309539, 38.90435899,\n",
              "       38.28967045, 34.03218373, 42.2769791 , 32.0105022 , 41.01310754,\n",
              "       38.64474369, 37.48340411, 44.27539082, 32.798132  , 24.32238285,\n",
              "       32.37120157, 33.26610005, 29.62159886, 36.4205217 , 19.56431587,\n",
              "       32.23969781, 31.26899145, 30.42241144, 43.67784265, 12.59234835,\n",
              "       24.92373692, 34.47560643, 33.05709919, 25.66018003, 25.76356006,\n",
              "       18.55566764, 39.0597393 , 20.43363479, 35.25388004,  9.46370621,\n",
              "       13.98488992, 32.4974791 , 23.60333523, 29.33820354, 48.30313034,\n",
              "       51.75561936, 41.89705714, 43.03127964, 13.44862238, 36.76192953,\n",
              "       30.30788259, 56.40612119, 12.06518189, 23.84319703, 13.43944546,\n",
              "       40.49846887, 45.8223957 , 46.18349496, 23.98936594, 26.45908966,\n",
              "       15.25323618, 43.61020506, 36.54312432, 41.67222591, 28.51768573,\n",
              "       44.96983104, 26.59550938, 10.51386089, 28.14582375, 29.18251986,\n",
              "       10.17533507, 33.93125134, 36.78221391, 28.33531243, 29.67385425,\n",
              "       33.41264817, 32.52355508, 25.06103917, 21.85280392, 31.92043595,\n",
              "       15.6946594 , 26.44011528, 28.06906438, 24.89804015, 29.18705661,\n",
              "       29.62261928, 36.83007734, 19.20447835, 32.24468272, 31.09685687,\n",
              "       29.53293225, 42.71363804, 12.59423062, 25.12670487, 34.48989237,\n",
              "       33.06254605, 25.78913272, 25.96365978, 18.65302165, 38.34786912,\n",
              "       20.00837289, 34.57247091,  9.46393373, 14.12372281, 32.49725847,\n",
              "       23.59049029, 29.44256263, 47.60330531, 51.85729639, 41.88865243,\n",
              "       43.35971842, 13.45138029, 36.72148487, 30.47610094, 56.40310129,\n",
              "       12.03830612, 23.79118296, 13.43967988, 40.62746293, 46.0247569 ,\n",
              "       46.28960532, 23.99698465, 26.35951554, 15.35974643, 43.60745405,\n",
              "       36.54548233, 42.04969334, 28.53677043, 44.86105241, 26.59727444,\n",
              "       10.47951809, 27.24208618, 30.0408899 , 10.06694255, 34.21752867,\n",
              "       37.4627612 , 33.86496511, 19.8428297 , 20.89975504, 36.27752437,\n",
              "       38.88008254, 16.24871542, 34.48231503, 39.62550262, 29.1975918 ,\n",
              "       27.12792964, 45.13668424, 30.70742703, 16.07593273, 42.60717605,\n",
              "       51.4964867 , 54.65429368, 63.62261827, 51.8449134 , 34.17214736,\n",
              "       19.43266732, 35.80503337, 34.53570116, 41.19144051, 38.8588191 ,\n",
              "       42.89493576, 60.14914161, 41.01285933, 32.7915613 , 51.14919764,\n",
              "       16.19552234, 39.0065738 , 38.31509143, 34.12696599, 42.30403414,\n",
              "       32.02538799, 40.67163766, 38.67958981, 37.48441074, 44.15519446,\n",
              "       32.85693052, 24.24937424, 32.70173636, 33.07254345])"
            ]
          },
          "execution_count": 9,
          "metadata": {},
          "output_type": "execute_result"
        }
      ],
      "source": [
        "import pandas as pd\n",
        "from sklearn.ensemble import RandomForestRegressor\n",
        "import pickle\n",
        "import datetime\n",
        "\n",
        "# Read the train and test data\n",
        "TRAIN_DATA_REG = \"/content/mlops-examples/drum_overview/data/concrete_train.csv\"  # 14 features\n",
        "TEST_DATA_REG = \"/content/mlops-examples/drum_overview/data/concrete_test.csv\"  # 13 features - target is removed\n",
        "\n",
        "reg_X_train = pd.read_csv(TRAIN_DATA_REG)\n",
        "reg_Y_train = reg_X_train.pop('concrete_compressive_strength')\n",
        "\n",
        "reg_X_test = pd.read_csv(TEST_DATA_REG)\n",
        "\n",
        "# Fit the model\n",
        "rf = RandomForestRegressor()\n",
        "rf.fit(reg_X_train, reg_Y_train)\n",
        "\n",
        "# Pickle the file and write it to the file system\n",
        "with open(\"/content/mlops-examples/drum_overview/custom_model_reg/reg_rf_model.pkl\", 'wb') as pkl:\n",
        "    pickle.dump(rf, pkl)\n",
        "    \n",
        "# Call predict to confirm it works\n",
        "rf.predict(reg_X_test)"
      ]
    },
    {
      "cell_type": "markdown",
      "metadata": {
        "id": "QFrpi3DTS__O"
      },
      "source": [
        "## Testing the Model\n",
        "\n",
        "Input the prediction dataset that includes all features except the target feature."
      ]
    },
    {
      "cell_type": "code",
      "execution_count": null,
      "metadata": {
        "colab": {
          "base_uri": "https://localhost:8080/"
        },
        "id": "WkrCzPvyS__P",
        "outputId": "154e7627-1c89-4c14-8e5e-d3d1dd2e3f38"
      },
      "outputs": [
        {
          "name": "stdout",
          "output_type": "stream",
          "text": [
            "DRUM performance test\n",
            "Model:      /content/mlops-examples/drum_overview/custom_model_reg\n",
            "Data:       /content/mlops-examples/drum_overview/data/concrete_test.csv\n",
            "# Features: 8\n",
            "Preparing test data...\n",
            "\n",
            "\n",
            "\n",
            "Running test case with timeout: 600\n",
            "Running test case: 41 bytes - 1 samples, 100 iterations\n",
            "Running test case with timeout: 600\n",
            "Running test case: 0.1MB - 2529 samples, 50 iterations\n",
            "Running test case with timeout: 600\n",
            "Running test case: 10MB - 252956 samples, 5 iterations\n",
            "Running test case with timeout: 600\n",
            "Running test case: 50MB - 1264781 samples, 1 iterations\n",
            "Test is done stopping drum server\n",
            "\n",
            " size     samples   iters    min      avg      max      total     used    total \n",
            "                                                         (s)      (MB)    physic\n",
            "                                                                            al  \n",
            "                                                                           (MB) \n",
            "================================================================================\n",
            "41              1     100    0.017    0.018    0.030     1.844       NA       NA\n",
            "bytes                                                                           \n",
            "0.1MB        2529      50    0.051    0.053    0.067     2.648       NA       NA\n",
            "10MB       252956       5    2.107    2.139    2.188    10.694       NA       NA\n",
            "50MB      1264781       1   10.417   10.417   10.417    10.417       NA       NA\n"
          ]
        },
        {
          "name": "stderr",
          "output_type": "stream",
          "text": [
            "tput: terminal attributes: No such device or address\n",
            "\n"
          ]
        }
      ],
      "source": [
        "%%sh \n",
        "drum perf-test --code-dir /content/mlops-examples/drum_overview/custom_model_reg \\\n",
        "--input /content/mlops-examples/drum_overview/data/concrete_test.csv \\\n",
        "--target-type regression"
      ]
    },
    {
      "cell_type": "markdown",
      "metadata": {
        "id": "ZY4t4QnjS__Q"
      },
      "source": [
        "## Validating the Model"
      ]
    },
    {
      "cell_type": "code",
      "execution_count": null,
      "metadata": {
        "id": "CQCk4wwPS__R"
      },
      "outputs": [],
      "source": [
        "%%sh \n",
        "drum validation --code-dir /content/mlops-examples/drum_overview/custom_model_reg \\\n",
        "--input /content/mlops-examples/drum_overview/data/concrete_test.csv \\\n",
        "--target-type regression > drum_validation.log"
      ]
    },
    {
      "cell_type": "code",
      "execution_count": null,
      "metadata": {
        "colab": {
          "base_uri": "https://localhost:8080/"
        },
        "id": "9y7-UsPiS__R",
        "outputId": "b149eb2d-e645-404a-dd47-ceba272541e8"
      },
      "outputs": [
        {
          "name": "stdout",
          "output_type": "stream",
          "text": [
            "\n",
            "\n",
            "Validation checks results\n",
            "      Test case          Status   Details\n",
            "=========================================\n",
            "Basic batch prediction   PASSED          \n",
            "Null value imputation    PASSED          \n"
          ]
        }
      ],
      "source": [
        "%%sh\n",
        "tail drum_validation.log"
      ]
    },
    {
      "cell_type": "markdown",
      "metadata": {
        "id": "j_8u37KNS__S"
      },
      "source": [
        "# Batch Scoring with DRUM\n",
        "<a id=\"setup_complete\"></a>\n",
        "\n",
        "At this point our model has been written to disk and we want to start making predictions with it.  To do this, we'll leverage DRUM and it's ability to natively handle our scikit learn model, all we need to do is tell DRUM where it resides as well as the data we wish to score.  \n",
        "\n",
        "There are a lot of frameworks which DRUM supports nateively, but for those which DRUM doesn't support of these shelf, we'll just need to create some custom hooks so DRUM.  In this example, we'll highlight some very simple custom hooks, and will provide links to more complex examples.  "
      ]
    },
    {
      "cell_type": "code",
      "execution_count": null,
      "metadata": {
        "id": "a3ga3V69S__S"
      },
      "outputs": [],
      "source": [
        "%%sh \n",
        "drum score --code-dir /content/mlops-examples/drum_overview/custom_model_reg \\\n",
        "--input /content/mlops-examples/drum_overview/data/concrete_test.csv \\\n",
        "--output /content/mlops-examples/drum_overview/data/predictions.csv --target-type regression"
      ]
    },
    {
      "cell_type": "code",
      "execution_count": null,
      "metadata": {
        "colab": {
          "base_uri": "https://localhost:8080/",
          "height": 206
        },
        "id": "DihDhffIS__T",
        "outputId": "03628950-7059-405f-c9bf-f50d2a36a8b8"
      },
      "outputs": [
        {
          "data": {
            "text/html": [
              "\n",
              "  <div id=\"df-20699c9c-7f15-4f3b-97cb-d6f24db619f4\">\n",
              "    <div class=\"colab-df-container\">\n",
              "      <div>\n",
              "<style scoped>\n",
              "    .dataframe tbody tr th:only-of-type {\n",
              "        vertical-align: middle;\n",
              "    }\n",
              "\n",
              "    .dataframe tbody tr th {\n",
              "        vertical-align: top;\n",
              "    }\n",
              "\n",
              "    .dataframe thead th {\n",
              "        text-align: right;\n",
              "    }\n",
              "</style>\n",
              "<table border=\"1\" class=\"dataframe\">\n",
              "  <thead>\n",
              "    <tr style=\"text-align: right;\">\n",
              "      <th></th>\n",
              "      <th>Predictions</th>\n",
              "    </tr>\n",
              "  </thead>\n",
              "  <tbody>\n",
              "    <tr>\n",
              "      <th>0</th>\n",
              "      <td>49.825093</td>\n",
              "    </tr>\n",
              "    <tr>\n",
              "      <th>1</th>\n",
              "      <td>16.174895</td>\n",
              "    </tr>\n",
              "    <tr>\n",
              "      <th>2</th>\n",
              "      <td>30.261481</td>\n",
              "    </tr>\n",
              "    <tr>\n",
              "      <th>3</th>\n",
              "      <td>10.867472</td>\n",
              "    </tr>\n",
              "    <tr>\n",
              "      <th>4</th>\n",
              "      <td>4.085552</td>\n",
              "    </tr>\n",
              "  </tbody>\n",
              "</table>\n",
              "</div>\n",
              "      <button class=\"colab-df-convert\" onclick=\"convertToInteractive('df-20699c9c-7f15-4f3b-97cb-d6f24db619f4')\"\n",
              "              title=\"Convert this dataframe to an interactive table.\"\n",
              "              style=\"display:none;\">\n",
              "        \n",
              "  <svg xmlns=\"http://www.w3.org/2000/svg\" height=\"24px\"viewBox=\"0 0 24 24\"\n",
              "       width=\"24px\">\n",
              "    <path d=\"M0 0h24v24H0V0z\" fill=\"none\"/>\n",
              "    <path d=\"M18.56 5.44l.94 2.06.94-2.06 2.06-.94-2.06-.94-.94-2.06-.94 2.06-2.06.94zm-11 1L8.5 8.5l.94-2.06 2.06-.94-2.06-.94L8.5 2.5l-.94 2.06-2.06.94zm10 10l.94 2.06.94-2.06 2.06-.94-2.06-.94-.94-2.06-.94 2.06-2.06.94z\"/><path d=\"M17.41 7.96l-1.37-1.37c-.4-.4-.92-.59-1.43-.59-.52 0-1.04.2-1.43.59L10.3 9.45l-7.72 7.72c-.78.78-.78 2.05 0 2.83L4 21.41c.39.39.9.59 1.41.59.51 0 1.02-.2 1.41-.59l7.78-7.78 2.81-2.81c.8-.78.8-2.07 0-2.86zM5.41 20L4 18.59l7.72-7.72 1.47 1.35L5.41 20z\"/>\n",
              "  </svg>\n",
              "      </button>\n",
              "      \n",
              "  <style>\n",
              "    .colab-df-container {\n",
              "      display:flex;\n",
              "      flex-wrap:wrap;\n",
              "      gap: 12px;\n",
              "    }\n",
              "\n",
              "    .colab-df-convert {\n",
              "      background-color: #E8F0FE;\n",
              "      border: none;\n",
              "      border-radius: 50%;\n",
              "      cursor: pointer;\n",
              "      display: none;\n",
              "      fill: #1967D2;\n",
              "      height: 32px;\n",
              "      padding: 0 0 0 0;\n",
              "      width: 32px;\n",
              "    }\n",
              "\n",
              "    .colab-df-convert:hover {\n",
              "      background-color: #E2EBFA;\n",
              "      box-shadow: 0px 1px 2px rgba(60, 64, 67, 0.3), 0px 1px 3px 1px rgba(60, 64, 67, 0.15);\n",
              "      fill: #174EA6;\n",
              "    }\n",
              "\n",
              "    [theme=dark] .colab-df-convert {\n",
              "      background-color: #3B4455;\n",
              "      fill: #D2E3FC;\n",
              "    }\n",
              "\n",
              "    [theme=dark] .colab-df-convert:hover {\n",
              "      background-color: #434B5C;\n",
              "      box-shadow: 0px 1px 3px 1px rgba(0, 0, 0, 0.15);\n",
              "      filter: drop-shadow(0px 1px 2px rgba(0, 0, 0, 0.3));\n",
              "      fill: #FFFFFF;\n",
              "    }\n",
              "  </style>\n",
              "\n",
              "      <script>\n",
              "        const buttonEl =\n",
              "          document.querySelector('#df-20699c9c-7f15-4f3b-97cb-d6f24db619f4 button.colab-df-convert');\n",
              "        buttonEl.style.display =\n",
              "          google.colab.kernel.accessAllowed ? 'block' : 'none';\n",
              "\n",
              "        async function convertToInteractive(key) {\n",
              "          const element = document.querySelector('#df-20699c9c-7f15-4f3b-97cb-d6f24db619f4');\n",
              "          const dataTable =\n",
              "            await google.colab.kernel.invokeFunction('convertToInteractive',\n",
              "                                                     [key], {});\n",
              "          if (!dataTable) return;\n",
              "\n",
              "          const docLinkHtml = 'Like what you see? Visit the ' +\n",
              "            '<a target=\"_blank\" href=https://colab.research.google.com/notebooks/data_table.ipynb>data table notebook</a>'\n",
              "            + ' to learn more about interactive tables.';\n",
              "          element.innerHTML = '';\n",
              "          dataTable['output_type'] = 'display_data';\n",
              "          await google.colab.output.renderOutput(dataTable, element);\n",
              "          const docLink = document.createElement('div');\n",
              "          docLink.innerHTML = docLinkHtml;\n",
              "          element.appendChild(docLink);\n",
              "        }\n",
              "      </script>\n",
              "    </div>\n",
              "  </div>\n",
              "  "
            ],
            "text/plain": [
              "   Predictions\n",
              "0    49.825093\n",
              "1    16.174895\n",
              "2    30.261481\n",
              "3    10.867472\n",
              "4     4.085552"
            ]
          },
          "execution_count": 14,
          "metadata": {},
          "output_type": "execute_result"
        }
      ],
      "source": [
        "pd.read_csv(\"/content/mlops-examples/drum_overview/data/predictions.csv\").head()"
      ]
    },
    {
      "cell_type": "markdown",
      "metadata": {
        "id": "3O3txPOgS__T"
      },
      "source": [
        "# Start the inference server locally\n",
        "\n",
        "Batch scoring can be very useful, but the utility DRUM offers does not stop there.  We can also leverage DRUM to serve our model as a RESTful API endpoint.  The only thing that changes is the way we will structure the command - using the `server` mode instead of `score` model.  We'll also need to provide an address which is NOT in use.  \n",
        "\n",
        "When starting the server, we'll use `subprocess.Popen` so we may interact with the server in this notebook"
      ]
    },
    {
      "cell_type": "code",
      "execution_count": null,
      "metadata": {
        "id": "wtjCh2Y5S__U"
      },
      "outputs": [],
      "source": [
        "import subprocess\n",
        "import requests\n",
        "import pandas as pd\n",
        "from io import BytesIO\n",
        "import yaml\n",
        "import time\n",
        "import os\n",
        "import datarobot as dr\n",
        "from pprint import pprint"
      ]
    },
    {
      "cell_type": "code",
      "execution_count": null,
      "metadata": {
        "id": "Vi83GFV0S__V"
      },
      "outputs": [],
      "source": [
        "run_inference_server = [\"drum\",\n",
        "              \"server\",\n",
        "              \"--code-dir\",\"/content/mlops-examples/drum_overview/custom_model_reg\", \n",
        "              \"--address\", \"0.0.0.0:6789\", \n",
        "              \"--show-perf\",\n",
        "              \"--target-type\", \"regression\",\n",
        "              \"--logging-level\", \"info\",\n",
        "              \"--show-stacktrace\",\n",
        "              \"--verbose\"\n",
        "              ]"
      ]
    },
    {
      "cell_type": "code",
      "execution_count": null,
      "metadata": {
        "id": "Dft3nfI4S__V"
      },
      "outputs": [],
      "source": [
        "inference_server = subprocess.Popen(run_inference_server, stdout=subprocess.PIPE)"
      ]
    },
    {
      "cell_type": "code",
      "execution_count": null,
      "metadata": {
        "colab": {
          "base_uri": "https://localhost:8080/"
        },
        "id": "UG0lYx0gS__V",
        "outputId": "af02a17a-38dc-4eac-fcf6-f9794b37067d"
      },
      "outputs": [
        {
          "name": "stdout",
          "output_type": "stream",
          "text": [
            "check status\n"
          ]
        },
        {
          "data": {
            "text/plain": [
              "b'{\"message\":\"OK\"}\\n'"
            ]
          },
          "execution_count": 18,
          "metadata": {},
          "output_type": "execute_result"
        }
      ],
      "source": [
        "## confirm the server is running\n",
        "time.sleep(10) ## snoozing before pinging the server to give it time to actually start\n",
        "print('check status')\n",
        "requests.request(\"GET\", \"http://0.0.0.0:6789\").content"
      ]
    },
    {
      "cell_type": "markdown",
      "metadata": {
        "id": "LUm8MYLxS__V"
      },
      "source": [
        "## Send data to server for inference\n",
        "\n",
        "The request must provide our dataset as form data.  In order to do so, we'll create a simple python function to pass the data over appropriately.  We'll leverage the same function in our simple flask app a little later.  "
      ]
    },
    {
      "cell_type": "code",
      "execution_count": null,
      "metadata": {
        "id": "SMPYujIMS__V"
      },
      "outputs": [],
      "source": [
        "def score(data, port = \"6789\"):\n",
        "    b_buf = BytesIO()\n",
        "    b_buf.write(data.to_csv(index=False).encode(\"utf-8\"))\n",
        "    b_buf.seek(0)\n",
        "  \n",
        "    url = \"http://localhost:{}/predict/\".format(port)\n",
        "    files = [\n",
        "        ('X', b_buf)\n",
        "    ]\n",
        "    response = requests.request(\"POST\", url, files = files, timeout=None, verify=False)\n",
        "    return response"
      ]
    },
    {
      "cell_type": "code",
      "execution_count": null,
      "metadata": {
        "colab": {
          "base_uri": "https://localhost:8080/"
        },
        "id": "lfGDhaABS__W",
        "outputId": "76b66a81-20e3-4347-b081-01465f14351f"
      },
      "outputs": [
        {
          "name": "stdout",
          "output_type": "stream",
          "text": [
            "{'predictions': [49.8250934562,\n",
            "                 16.1748951924,\n",
            "                 30.2614808518,\n",
            "                 10.8674724487,\n",
            "                 4.0855520908,\n",
            "                 25.1687422202,\n",
            "                 41.4358833915,\n",
            "                 5.8062359755,\n",
            "                 33.4288025954,\n",
            "                 35.7241716208,\n",
            "                 51.3077219623,\n",
            "                 19.2967666781,\n",
            "                 9.8490543438,\n",
            "                 9.0220692504,\n",
            "                 40.0591968127,\n",
            "                 9.7450124154,\n",
            "                 5.7791464634,\n",
            "                 10.0235124561,\n",
            "                 43.3782929081,\n",
            "                 48.5846985531,\n",
            "                 12.4897267396,\n",
            "                 16.5457761524,\n",
            "                 27.3534434528,\n",
            "                 36.0865946802,\n",
            "                 38.223515226,\n",
            "                 14.208693829,\n",
            "                 16.8766901586,\n",
            "                 32.0510020203,\n",
            "                 38.0329164806,\n",
            "                 39.3788701592,\n",
            "                 14.9269899258,\n",
            "                 12.0159119376,\n",
            "                 33.7527873678,\n",
            "                 40.0762475542,\n",
            "                 40.6261322432,\n",
            "                 11.6422711037,\n",
            "                 17.5841476926,\n",
            "                 17.846251994,\n",
            "                 24.7255815212,\n",
            "                 26.5454810022,\n",
            "                 45.0428780705,\n",
            "                 52.8834159389,\n",
            "                 36.6669679979,\n",
            "                 14.9550240199,\n",
            "                 22.9127353796,\n",
            "                 17.3286830451,\n",
            "                 26.5118946564,\n",
            "                 34.3441332036,\n",
            "                 36.8579942185,\n",
            "                 45.5189819328,\n",
            "                 52.1745105052,\n",
            "                 56.3556308644,\n",
            "                 66.5528430092,\n",
            "                 68.9653884808,\n",
            "                 70.6713589476,\n",
            "                 72.50357247,\n",
            "                 18.8653595749,\n",
            "                 23.2690565764,\n",
            "                 28.7027617743,\n",
            "                 30.2230238504,\n",
            "                 31.5567856235,\n",
            "                 32.4588753376,\n",
            "                 10.0087291058,\n",
            "                 16.7944455215,\n",
            "                 23.930532956,\n",
            "                 26.7265236103,\n",
            "                 34.3578370316,\n",
            "                 39.2180912508,\n",
            "                 40.4086163547,\n",
            "                 15.1398242722,\n",
            "                 13.6947653133,\n",
            "                 24.3806918364,\n",
            "                 37.2140740987,\n",
            "                 14.6126026593,\n",
            "                 22.8113686181,\n",
            "                 20.7617357338,\n",
            "                 31.7533414416,\n",
            "                 15.561962848,\n",
            "                 26.0792435415,\n",
            "                 17.6056593438,\n",
            "                 15.627518226,\n",
            "                 23.3670104317,\n",
            "                 29.8531938489,\n",
            "                 13.860277967,\n",
            "                 16.5416599806,\n",
            "                 31.6616825021,\n",
            "                 37.3900076896,\n",
            "                 17.0080008628,\n",
            "                 33.2450572414,\n",
            "                 39.5230258013,\n",
            "                 40.8681383192,\n",
            "                 41.711201993,\n",
            "                 19.5981484572,\n",
            "                 28.6898616784,\n",
            "                 61.2793858232,\n",
            "                 48.695938611,\n",
            "                 50.4693743044,\n",
            "                 53.8804120244,\n",
            "                 39.4690654396,\n",
            "                 12.9031503387,\n",
            "                 19.6737977639,\n",
            "                 31.7302508903,\n",
            "                 19.9151399731,\n",
            "                 39.167607818,\n",
            "                 47.7864715036,\n",
            "                 23.9943922232,\n",
            "                 38.5666674312,\n",
            "                 11.8728180886,\n",
            "                 19.6737977639,\n",
            "                 15.6797805068,\n",
            "                 28.0853015425,\n",
            "                 35.3138644532,\n",
            "                 37.1451678672,\n",
            "                 37.7704605464,\n",
            "                 34.2207268492,\n",
            "                 42.3111938578,\n",
            "                 46.1184084273,\n",
            "                 55.8577119815,\n",
            "                 58.9513701092,\n",
            "                 64.9678755804,\n",
            "                 21.3540369864,\n",
            "                 26.384005723,\n",
            "                 30.6776554602,\n",
            "                 23.4964319717,\n",
            "                 38.728239237,\n",
            "                 24.709930416,\n",
            "                 49.1218358159,\n",
            "                 70.3416791034,\n",
            "                 37.4621406687,\n",
            "                 33.8629794221,\n",
            "                 19.8409956939,\n",
            "                 20.7061846525,\n",
            "                 36.4611594119,\n",
            "                 37.3917382744,\n",
            "                 16.3948429612,\n",
            "                 35.0377017361,\n",
            "                 39.6667470735,\n",
            "                 29.4775466398,\n",
            "                 27.0404696121,\n",
            "                 44.8748695137,\n",
            "                 30.8212871005,\n",
            "                 15.929308766,\n",
            "                 42.5595125791,\n",
            "                 51.4962040164,\n",
            "                 56.1001386378,\n",
            "                 63.6215633742,\n",
            "                 51.4511536546,\n",
            "                 34.0747726598,\n",
            "                 20.929416297,\n",
            "                 36.5757434284,\n",
            "                 33.5568176043,\n",
            "                 41.2267416816,\n",
            "                 38.7979107868,\n",
            "                 42.0219350366,\n",
            "                 60.1476247587,\n",
            "                 41.2788246986,\n",
            "                 32.7893411844,\n",
            "                 51.1832370705,\n",
            "                 16.1930953888,\n",
            "                 38.9043589865,\n",
            "                 38.2896704482,\n",
            "                 34.0321837272,\n",
            "                 42.2769791038,\n",
            "                 32.0105022,\n",
            "                 41.013107543,\n",
            "                 38.6447436934,\n",
            "                 37.4834041086,\n",
            "                 44.275390816,\n",
            "                 32.7981320034,\n",
            "                 24.3223828511,\n",
            "                 32.3712015694,\n",
            "                 33.2661000489,\n",
            "                 29.6215988605,\n",
            "                 36.4205216965,\n",
            "                 19.5643158699,\n",
            "                 32.239697812,\n",
            "                 31.2689914463,\n",
            "                 30.422411445,\n",
            "                 43.6778426511,\n",
            "                 12.5923483474,\n",
            "                 24.9237369236,\n",
            "                 34.4756064271,\n",
            "                 33.057099189,\n",
            "                 25.6601800287,\n",
            "                 25.7635600601,\n",
            "                 18.55566764,\n",
            "                 39.0597392978,\n",
            "                 20.4336347897,\n",
            "                 35.2538800412,\n",
            "                 9.4637062074,\n",
            "                 13.9848899194,\n",
            "                 32.4974790988,\n",
            "                 23.6033352255,\n",
            "                 29.3382035402,\n",
            "                 48.3031303442,\n",
            "                 51.7556193614,\n",
            "                 41.8970571435,\n",
            "                 43.0312796373,\n",
            "                 13.4486223813,\n",
            "                 36.7619295274,\n",
            "                 30.3078825866,\n",
            "                 56.4061211919,\n",
            "                 12.0651818926,\n",
            "                 23.8431970311,\n",
            "                 13.4394454558,\n",
            "                 40.498468867,\n",
            "                 45.8223956962,\n",
            "                 46.1834949617,\n",
            "                 23.9893659431,\n",
            "                 26.4590896594,\n",
            "                 15.2532361794,\n",
            "                 43.6102050555,\n",
            "                 36.5431243188,\n",
            "                 41.6722259147,\n",
            "                 28.5176857316,\n",
            "                 44.9698310432,\n",
            "                 26.5955093808,\n",
            "                 10.5138608926,\n",
            "                 28.1458237458,\n",
            "                 29.1825198594,\n",
            "                 10.1753350713,\n",
            "                 33.9312513356,\n",
            "                 36.7822139113,\n",
            "                 28.3353124349,\n",
            "                 29.6738542465,\n",
            "                 33.4126481727,\n",
            "                 32.5235550812,\n",
            "                 25.0610391742,\n",
            "                 21.8528039248,\n",
            "                 31.9204359502,\n",
            "                 15.6946593989,\n",
            "                 26.4401152799,\n",
            "                 28.0690643827,\n",
            "                 24.898040153,\n",
            "                 29.1870566115,\n",
            "                 29.622619285,\n",
            "                 36.8300773352,\n",
            "                 19.2044783455,\n",
            "                 32.2446827234,\n",
            "                 31.0968568682,\n",
            "                 29.5329322469,\n",
            "                 42.7136380441,\n",
            "                 12.5942306169,\n",
            "                 25.1267048684,\n",
            "                 34.4898923698,\n",
            "                 33.0625460494,\n",
            "                 25.789132725,\n",
            "                 25.9636597848,\n",
            "                 18.6530216512,\n",
            "                 38.3478691174,\n",
            "                 20.0083728877,\n",
            "                 34.5724709104,\n",
            "                 9.4639337345,\n",
            "                 14.1237228067,\n",
            "                 32.4972584665,\n",
            "                 23.5904902876,\n",
            "                 29.4425626276,\n",
            "                 47.6033053095,\n",
            "                 51.8572963871,\n",
            "                 41.8886524311,\n",
            "                 43.3597184247,\n",
            "                 13.4513802853,\n",
            "                 36.7214848652,\n",
            "                 30.4761009411,\n",
            "                 56.403101287,\n",
            "                 12.0383061181,\n",
            "                 23.7911829617,\n",
            "                 13.4396798776,\n",
            "                 40.6274629319,\n",
            "                 46.0247569022,\n",
            "                 46.2896053181,\n",
            "                 23.9969846529,\n",
            "                 26.3595155355,\n",
            "                 15.3597464319,\n",
            "                 43.6074540462,\n",
            "                 36.5454823267,\n",
            "                 42.0496933404,\n",
            "                 28.5367704273,\n",
            "                 44.8610524147,\n",
            "                 26.5972744393,\n",
            "                 10.479518093,\n",
            "                 27.242086184,\n",
            "                 30.0408899004,\n",
            "                 10.0669425494,\n",
            "                 34.2175286656,\n",
            "                 37.4627611971,\n",
            "                 33.864965113,\n",
            "                 19.8428297001,\n",
            "                 20.8997550395,\n",
            "                 36.2775243741,\n",
            "                 38.8800825365,\n",
            "                 16.2487154178,\n",
            "                 34.4823150286,\n",
            "                 39.6255026192,\n",
            "                 29.1975918048,\n",
            "                 27.1279296427,\n",
            "                 45.1366842352,\n",
            "                 30.7074270338,\n",
            "                 16.0759327322,\n",
            "                 42.607176055,\n",
            "                 51.4964867016,\n",
            "                 54.6542936763,\n",
            "                 63.6226182725,\n",
            "                 51.8449133982,\n",
            "                 34.1721473552,\n",
            "                 19.4326673224,\n",
            "                 35.805033366,\n",
            "                 34.5357011553,\n",
            "                 41.1914405104,\n",
            "                 38.8588190967,\n",
            "                 42.8949357583,\n",
            "                 60.1491416059,\n",
            "                 41.0128593316,\n",
            "                 32.7915612971,\n",
            "                 51.1491976404,\n",
            "                 16.1955223444,\n",
            "                 39.0065738035,\n",
            "                 38.3150914283,\n",
            "                 34.126965993,\n",
            "                 42.304034142,\n",
            "                 32.0253879869,\n",
            "                 40.6716376592,\n",
            "                 38.6795898105,\n",
            "                 37.4844107435,\n",
            "                 44.1551944649,\n",
            "                 32.8569305167,\n",
            "                 24.2493742375,\n",
            "                 32.7017363638,\n",
            "                 33.0725434514]}\n"
          ]
        }
      ],
      "source": [
        "# %%timeit\n",
        "scoring_data = pd.read_csv(\"/content/mlops-examples/drum_overview/data/concrete_test.csv\")\n",
        "predictions = score(scoring_data).json() ## score entire dataset but only show first 5 records\n",
        "pprint(predictions)"
      ]
    },
    {
      "cell_type": "code",
      "execution_count": null,
      "metadata": {
        "colab": {
          "base_uri": "https://localhost:8080/"
        },
        "id": "fRudfL7qS__W",
        "outputId": "029b44ed-b7b5-4a90-94fd-057e9734a39d"
      },
      "outputs": [
        {
          "data": {
            "text/plain": [
              "b'{\"message\":\"OK\"}\\n'"
            ]
          },
          "execution_count": 21,
          "metadata": {},
          "output_type": "execute_result"
        }
      ],
      "source": [
        "requests.request(\"GET\", \"http://0.0.0.0:6789/\").content"
      ]
    },
    {
      "cell_type": "code",
      "execution_count": null,
      "metadata": {
        "colab": {
          "base_uri": "https://localhost:8080/"
        },
        "id": "fl3sp7-GS__W",
        "outputId": "cecde5a2-c154-4c66-f3f6-9a9a5476b65a"
      },
      "outputs": [
        {
          "data": {
            "text/plain": [
              "[b'Detected REST server mode - this is an advanced option\\n',\n",
              " b'Detected /content/mlops-examples/drum_overview/custom_model_reg/custom.py .. trying to load hooks\\n',\n",
              " b'\\x1b[32m \\x1b[0m\\n',\n",
              " b'\\x1b[32m \\x1b[0m\\n',\n",
              " b'\\x1b[32m============================================================\\x1b[0m\\n',\n",
              " b'\\x1b[32mComponent: Prediction Server\\x1b[0m\\n',\n",
              " b'\\x1b[32mOutput:\\x1b[0m\\n',\n",
              " b'\\x1b[32m------------------------------------------------------------\\x1b[0m\\n']"
            ]
          },
          "execution_count": 22,
          "metadata": {},
          "output_type": "execute_result"
        }
      ],
      "source": [
        "inference_server.terminate()\n",
        "inference_server.stdout.readlines()"
      ]
    },
    {
      "cell_type": "code",
      "execution_count": null,
      "metadata": {
        "id": "YIcrfElcS__W"
      },
      "outputs": [],
      "source": [
        "#Stop the flask server\n",
        "%%sh\n",
        "fuser -n tcp -k 6789"
      ]
    },
    {
      "cell_type": "markdown",
      "metadata": {
        "id": "NbAcNQA_S__W"
      },
      "source": [
        "## Value Prop\n",
        "\n",
        "One may ask, what is the benefit to be had here?  Well, first of, there is not need for me to write an api to get the model up and running.  Second, DRUM allows me to abstract the framework away (provided I'm using one that is natively supported, or I can write enough python so that DRUM understands how to hook up to the model.  \n",
        "\n",
        "For example, I could hot swap models as I see fit\n",
        "\n",
        "While we will run through several other frameworks with in `score` you can bet they are supported in `server` mode as well!"
      ]
    },
    {
      "cell_type": "code",
      "execution_count": null,
      "metadata": {
        "id": "RtWAeVr0QYVq"
      },
      "outputs": [],
      "source": []
    }
  ],
  "metadata": {
    "colab": {
      "collapsed_sections": [],
      "name": "DRUM",
      "provenance": []
    },
    "kernelspec": {
      "display_name": "Python 3",
      "language": "python",
      "name": "python3"
    },
    "language_info": {
      "codemirror_mode": {
        "name": "ipython",
        "version": 3
      },
      "file_extension": ".py",
      "mimetype": "text/x-python",
      "name": "python",
      "nbconvert_exporter": "python",
      "pygments_lexer": "ipython3",
      "version": "3.8.5"
    }
  },
  "nbformat": 4,
  "nbformat_minor": 0
}
