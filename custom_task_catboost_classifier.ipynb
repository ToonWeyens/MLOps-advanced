{
 "cells": [
  {
   "cell_type": "markdown",
   "metadata": {},
   "source": [
    "# Define custom catboost task"
   ]
  },
  {
   "cell_type": "markdown",
   "metadata": {},
   "source": [
    "## Set up things"
   ]
  },
  {
   "cell_type": "code",
   "execution_count": 1,
   "metadata": {},
   "outputs": [],
   "source": [
    "import pandas as pd"
   ]
  },
  {
   "cell_type": "code",
   "execution_count": 2,
   "metadata": {},
   "outputs": [],
   "source": [
    "from Code.CatBoostClassifierCustomTask.custom import CustomTask"
   ]
  },
  {
   "cell_type": "markdown",
   "metadata": {},
   "source": [
    "## Try out the task locally"
   ]
  },
  {
   "cell_type": "code",
   "execution_count": 3,
   "metadata": {},
   "outputs": [
    {
     "name": "stdout",
     "output_type": "stream",
     "text": [
      "['__class__', '__delattr__', '__dict__', '__dir__', '__doc__', '__eq__', '__format__', '__ge__', '__getattribute__', '__gt__', '__hash__', '__init__', '__init_subclass__', '__le__', '__lt__', '__module__', '__ne__', '__new__', '__reduce__', '__reduce_ex__', '__repr__', '__setattr__', '__sizeof__', '__str__', '__subclasshook__', '__weakref__', 'default_artifact_filename', 'fit', 'load', 'load_task', 'log_message', 'predict', 'save', 'save_task']\n"
     ]
    }
   ],
   "source": [
    "from datarobot_drum.custom_task_interfaces import RegressionEstimatorInterface\n",
    "print(dir(RegressionEstimatorInterface))\n"
   ]
  },
  {
   "cell_type": "code",
   "execution_count": 4,
   "metadata": {},
   "outputs": [
    {
     "name": "stdout",
     "output_type": "stream",
     "text": [
      "\u001b[0;31mInit signature:\u001b[0m \u001b[0mvanillaTask\u001b[0m\u001b[0;34m(\u001b[0m\u001b[0;34m)\u001b[0m\u001b[0;34m\u001b[0m\u001b[0;34m\u001b[0m\u001b[0m\n",
      "\u001b[0;31mDocstring:\u001b[0m      <no docstring>\n",
      "\u001b[0;31mSource:\u001b[0m        \n",
      "\u001b[0;32mclass\u001b[0m \u001b[0mRegressionEstimatorInterface\u001b[0m\u001b[0;34m(\u001b[0m\u001b[0mEstimatorInterface\u001b[0m\u001b[0;34m)\u001b[0m\u001b[0;34m:\u001b[0m\u001b[0;34m\u001b[0m\n",
      "\u001b[0;34m\u001b[0m    \u001b[0;32mpass\u001b[0m\u001b[0;34m\u001b[0m\u001b[0;34m\u001b[0m\u001b[0m\n",
      "\u001b[0;31mFile:\u001b[0m           ~/.local/share/virtualenvs/MLOps-advanced-e-DItRu4/lib/python3.9/site-packages/datarobot_drum/custom_task_interfaces/estimator_interfaces.py\n",
      "\u001b[0;31mType:\u001b[0m           type\n",
      "\u001b[0;31mSubclasses:\u001b[0m     CustomTask\n"
     ]
    }
   ],
   "source": [
    "# You can get information on the methods using `??`:\n",
    "vanillaTask = RegressionEstimatorInterface\n",
    "??vanillaTask"
   ]
  },
  {
   "cell_type": "code",
   "execution_count": 5,
   "metadata": {},
   "outputs": [],
   "source": [
    "# from datarobot_drum.custom_task_interfaces.custom_task_interface import CustomTaskInterface\n",
    "# t = CustomTaskInterface()\n",
    "# ??t"
   ]
  },
  {
   "cell_type": "code",
   "execution_count": 6,
   "metadata": {},
   "outputs": [],
   "source": [
    "train = pd.read_csv('./Data/readmissions_train.csv')\n",
    "X = train.drop(['readmitted'],axis=1)\n",
    "y = train['readmitted']"
   ]
  },
  {
   "cell_type": "code",
   "execution_count": 7,
   "metadata": {},
   "outputs": [],
   "source": [
    "task = CustomTask()\n",
    "#??task"
   ]
  },
  {
   "cell_type": "code",
   "execution_count": 8,
   "metadata": {},
   "outputs": [
    {
     "name": "stdout",
     "output_type": "stream",
     "text": [
      "Learning rate set to 0.42021\n",
      "0:\tlearn: 0.6553859\ttotal: 63.2ms\tremaining: 3.09s\n",
      "1:\tlearn: 0.6307490\ttotal: 71.7ms\tremaining: 1.72s\n",
      "2:\tlearn: 0.6204909\ttotal: 79.8ms\tremaining: 1.25s\n",
      "3:\tlearn: 0.6156358\ttotal: 88.3ms\tremaining: 1.01s\n",
      "4:\tlearn: 0.6115782\ttotal: 95.9ms\tremaining: 863ms\n",
      "5:\tlearn: 0.6095943\ttotal: 103ms\tremaining: 757ms\n",
      "6:\tlearn: 0.6072669\ttotal: 110ms\tremaining: 676ms\n",
      "7:\tlearn: 0.6060200\ttotal: 118ms\tremaining: 620ms\n",
      "8:\tlearn: 0.6050062\ttotal: 126ms\tremaining: 576ms\n",
      "9:\tlearn: 0.6015476\ttotal: 133ms\tremaining: 534ms\n",
      "10:\tlearn: 0.5984376\ttotal: 141ms\tremaining: 500ms\n",
      "11:\tlearn: 0.5976143\ttotal: 146ms\tremaining: 463ms\n",
      "12:\tlearn: 0.5963976\ttotal: 151ms\tremaining: 431ms\n",
      "13:\tlearn: 0.5954034\ttotal: 158ms\tremaining: 407ms\n",
      "14:\tlearn: 0.5936752\ttotal: 165ms\tremaining: 384ms\n",
      "15:\tlearn: 0.5932026\ttotal: 175ms\tremaining: 372ms\n",
      "16:\tlearn: 0.5909818\ttotal: 182ms\tremaining: 354ms\n",
      "17:\tlearn: 0.5890332\ttotal: 191ms\tremaining: 339ms\n",
      "18:\tlearn: 0.5861897\ttotal: 199ms\tremaining: 325ms\n",
      "19:\tlearn: 0.5846644\ttotal: 208ms\tremaining: 312ms\n",
      "20:\tlearn: 0.5841363\ttotal: 217ms\tremaining: 300ms\n",
      "21:\tlearn: 0.5834750\ttotal: 227ms\tremaining: 289ms\n",
      "22:\tlearn: 0.5834704\ttotal: 233ms\tremaining: 274ms\n",
      "23:\tlearn: 0.5826952\ttotal: 240ms\tremaining: 260ms\n",
      "24:\tlearn: 0.5806746\ttotal: 247ms\tremaining: 247ms\n",
      "25:\tlearn: 0.5790545\ttotal: 255ms\tremaining: 236ms\n",
      "26:\tlearn: 0.5784560\ttotal: 262ms\tremaining: 223ms\n",
      "27:\tlearn: 0.5767294\ttotal: 271ms\tremaining: 213ms\n",
      "28:\tlearn: 0.5749809\ttotal: 278ms\tremaining: 201ms\n",
      "29:\tlearn: 0.5729725\ttotal: 285ms\tremaining: 190ms\n",
      "30:\tlearn: 0.5713770\ttotal: 292ms\tremaining: 179ms\n",
      "31:\tlearn: 0.5708250\ttotal: 300ms\tremaining: 169ms\n",
      "32:\tlearn: 0.5706843\ttotal: 308ms\tremaining: 158ms\n",
      "33:\tlearn: 0.5686617\ttotal: 316ms\tremaining: 149ms\n",
      "34:\tlearn: 0.5667323\ttotal: 323ms\tremaining: 138ms\n",
      "35:\tlearn: 0.5647545\ttotal: 330ms\tremaining: 128ms\n",
      "36:\tlearn: 0.5636548\ttotal: 337ms\tremaining: 119ms\n",
      "37:\tlearn: 0.5632703\ttotal: 344ms\tremaining: 109ms\n",
      "38:\tlearn: 0.5614206\ttotal: 351ms\tremaining: 99ms\n",
      "39:\tlearn: 0.5613326\ttotal: 358ms\tremaining: 89.5ms\n",
      "40:\tlearn: 0.5597269\ttotal: 365ms\tremaining: 80.2ms\n",
      "41:\tlearn: 0.5569484\ttotal: 374ms\tremaining: 71.1ms\n",
      "42:\tlearn: 0.5555345\ttotal: 381ms\tremaining: 62.1ms\n",
      "43:\tlearn: 0.5532898\ttotal: 388ms\tremaining: 53ms\n",
      "44:\tlearn: 0.5516122\ttotal: 397ms\tremaining: 44.1ms\n",
      "45:\tlearn: 0.5502006\ttotal: 407ms\tremaining: 35.4ms\n",
      "46:\tlearn: 0.5493952\ttotal: 416ms\tremaining: 26.5ms\n",
      "47:\tlearn: 0.5493228\ttotal: 426ms\tremaining: 17.7ms\n",
      "48:\tlearn: 0.5488199\ttotal: 439ms\tremaining: 8.96ms\n",
      "49:\tlearn: 0.5482813\ttotal: 448ms\tremaining: 0us\n"
     ]
    }
   ],
   "source": [
    "task = task.fit(X,y)"
   ]
  },
  {
   "cell_type": "code",
   "execution_count": 9,
   "metadata": {},
   "outputs": [],
   "source": [
    "#task.save(\"temp\")"
   ]
  },
  {
   "cell_type": "code",
   "execution_count": 10,
   "metadata": {},
   "outputs": [],
   "source": [
    "#task = task.load(\"temp\")"
   ]
  },
  {
   "cell_type": "markdown",
   "metadata": {},
   "source": [
    "## Upload task\n",
    "\n",
    "NOTE: We can also do this in the GUI at [https://app.datarobot.com/model-registry/custom-tasks](https://app.datarobot.com/model-registry/custom-tasks)"
   ]
  },
  {
   "cell_type": "code",
   "execution_count": 11,
   "metadata": {},
   "outputs": [],
   "source": [
    "import datarobot as dr"
   ]
  },
  {
   "cell_type": "code",
   "execution_count": 12,
   "metadata": {},
   "outputs": [],
   "source": [
    "client = dr.Client(config_path='/Volumes/GoogleDrive/My Drive/Configurations/drconfig_demo.yaml')"
   ]
  },
  {
   "cell_type": "code",
   "execution_count": 13,
   "metadata": {},
   "outputs": [
    {
     "data": {
      "text/plain": [
       "[ExecutionEnvironment('[DataRobot] Python 3.9 ONNX Drop-In'),\n",
       " ExecutionEnvironment('[DataRobot] Python 3.9 PMML Drop-In'),\n",
       " ExecutionEnvironment('[DataRobot] Python 3.9 PyTorch Drop-In'),\n",
       " ExecutionEnvironment('[DataRobot] Python 3.9 Scikit-Learn Drop-In'),\n",
       " ExecutionEnvironment('[DataRobot] Python 3.9 XGBoost Drop-In'),\n",
       " ExecutionEnvironment('[DataRobot] Python 3.9 Keras Drop-In')]"
      ]
     },
     "execution_count": 13,
     "metadata": {},
     "output_type": "execute_result"
    }
   ],
   "source": [
    "dr.ExecutionEnvironment.list(search_for='python')"
   ]
  },
  {
   "cell_type": "code",
   "execution_count": 14,
   "metadata": {},
   "outputs": [
    {
     "name": "stdout",
     "output_type": "stream",
     "text": [
      "Description: This template environment can be used to create artifact-only scikit-learn custom models. This environment contains scikit-learn and only requires your model artifact as a .pkl file and optionally a custom.py file.\n",
      "Version: v40\n"
     ]
    }
   ],
   "source": [
    "execution_environment = dr.ExecutionEnvironment.get('5e8c889607389fe0f466c72d')\n",
    "print(\"Description: \"+execution_environment.description)\n",
    "print(\"Version: \"+execution_environment.latest_version.label)"
   ]
  },
  {
   "cell_type": "markdown",
   "metadata": {},
   "source": [
    "Create a requirements file like you usually do.\n",
    "\n",
    "Create model-metadata.yaml file:\n",
    "- Follow the steps in [the docs](https://docs.datarobot.com/en/docs/modeling/special-workflows/cml/cml-ref/cml-validation.html)\n",
    "- I used the example [here](https://github.com/datarobot/datarobot-user-models/tree/master/task_templates/2_estimators/4_python_binary_classification) to get started\n",
    "\n",
    "Create the task:"
   ]
  },
  {
   "cell_type": "code",
   "execution_count": 31,
   "metadata": {},
   "outputs": [],
   "source": [
    "create_custom_task = False\n",
    "update_custom_task = True\n",
    "build_custom_task = False\n",
    "\n",
    "task_name = 'Catboost custom classifier'"
   ]
  },
  {
   "cell_type": "code",
   "execution_count": 32,
   "metadata": {},
   "outputs": [
    {
     "name": "stdout",
     "output_type": "stream",
     "text": [
      "Using existing custom task with id 6304d19472ae9680d564e19a\n",
      "Created new version with id 6304eb2befb56877e90ab305\n",
      "Working with custom task created at 2022-08-23T14:58:51.741410Z\n"
     ]
    }
   ],
   "source": [
    "from datarobot.enums import CUSTOM_TASK_TARGET_TYPE\n",
    "\n",
    "# Create task\n",
    "if create_custom_task:\n",
    "    catboost_classification = dr.CustomTask.create(\n",
    "        name=task_name,\n",
    "        target_type=CUSTOM_TASK_TARGET_TYPE.BINARY\n",
    "    )\n",
    "    custom_task_id = catboost_classification.id\n",
    "    print('Created new custom task with id {}'.format(custom_task_id))\n",
    "else:\n",
    "    custom_task_id = '6304d19472ae9680d564e19a'\n",
    "    catboost_classification = dr.CustomTask.get(custom_task_id=custom_task_id)\n",
    "    print('Using existing custom task with id {}'.format(custom_task_id))\n",
    "\n",
    "    \n",
    "# Create new version from folder\n",
    "if update_custom_task:\n",
    "    custom_task_folder = \"Code/CatBoostClassifierCustomTask/\"\n",
    "\n",
    "    task_version = dr.CustomTaskVersion.create_clean(\n",
    "        custom_task_id=catboost_classification.id,\n",
    "        base_environment_id=execution_environment.id,\n",
    "        folder_path=custom_task_folder,\n",
    "    )\n",
    "\n",
    "    task_version.refresh()\n",
    "    custom_task_version_id = task_version.id\n",
    "    print('Created new version with id {}'.format(custom_task_version_id))\n",
    "else:\n",
    "    custom_task_version_id = '6304eb2befb56877e90ab305'\n",
    "    \n",
    "    task_version = dr.CustomTaskVersion.get(\n",
    "        custom_task_id=custom_task_id, custom_task_version_id=custom_task_version_id\n",
    "    )\n",
    "    print('Using existing version with id {}'.format(custom_task_version_id))\n",
    "\n",
    "    \n",
    "print('Working with custom task created at {}'.format(task_version.created_at))"
   ]
  },
  {
   "cell_type": "code",
   "execution_count": 33,
   "metadata": {},
   "outputs": [
    {
     "data": {
      "text/plain": [
       "CustomTask('Catboost custom classifier')"
      ]
     },
     "execution_count": 33,
     "metadata": {},
     "output_type": "execute_result"
    }
   ],
   "source": [
    "catboost_classification.refresh()  # In order to see the change, you need to GET it from DataRobot\n",
    "catboost_classification"
   ]
  },
  {
   "cell_type": "code",
   "execution_count": 18,
   "metadata": {},
   "outputs": [],
   "source": [
    "if build_custom_task:\n",
    "    task_version.start_dependency_build_and_wait(3600)"
   ]
  },
  {
   "cell_type": "markdown",
   "metadata": {},
   "source": [
    "## Get base blueprint to modify with new task"
   ]
  },
  {
   "cell_type": "code",
   "execution_count": 19,
   "metadata": {},
   "outputs": [],
   "source": [
    "project_id = '62ff9ee1969b9a4bbeb104be'\n",
    "model_id = '62ff9f422a6895b09c168200'\n",
    "blueprint_id = '0697d7bf645861594f6c7d1cca262462'\n",
    "\n",
    "save_blueprint = True\n",
    "train_blueprint = False"
   ]
  },
  {
   "cell_type": "code",
   "execution_count": 20,
   "metadata": {},
   "outputs": [
    {
     "name": "stdout",
     "output_type": "stream",
     "text": [
      "w = Workshop(user_blueprint_id='6304dfaec33369a5530ab428', project_id='62ff9ee1969b9a4bbeb104be')\n",
      "\n",
      "pnia4 = w.Tasks.PNIA4(w.TaskInputs.NUM)\n",
      "pnia4.set_task_parameters(s=True)\n",
      "\n",
      "diag_1_desc = w.Features.diag_1_desc\n",
      "\n",
      "ordcat2 = w.Tasks.ORDCAT2(w.TaskInputs.CAT)\n",
      "ordcat2.set_task_parameters(m='freq')\n",
      "\n",
      "wngec2 = w.Tasks.WNGEC2(diag_1_desc, output_method=w.TaskOutputMethod.STACK)\n",
      "wngec2.set_task_parameters(bi=True, a=0, lc=True, madf=0.8, midf=2, nrm='l2', num=[1, 2], tol=0, uidf=False)\n",
      "\n",
      "eslgbmtc = w.Tasks.ESLGBMTC(wngec2, pnia4, ordcat2)\n",
      "eslgbmtc.set_task_parameters(cbt=0.3, lr=0.05, n=2500, nl=[2, 4, 16], s=1, ss=1)\n",
      "\n",
      "eslgbmtc_blueprint = w.BlueprintGraph(eslgbmtc, name='Light Gradient Boosted Trees Classifier with Early Stopping')\n"
     ]
    }
   ],
   "source": [
    "from datarobot_bp_workshop import Workshop, Visualize\n",
    "w = Workshop()\n",
    "\n",
    "blueprint_graph = w.clone(blueprint_id=blueprint_id, project_id=project_id)\n",
    "source_code = blueprint_graph.to_source_code(to_stdout=True)"
   ]
  },
  {
   "cell_type": "code",
   "execution_count": 21,
   "metadata": {},
   "outputs": [
    {
     "data": {
      "text/plain": [
       "Catboost custom classifier: [CUSTOMC_630389ffa4de122ca60ab4e9] \n",
       "  - (No description)\n",
       "\n",
       "\n",
       "Catboost custom classifier: [CUSTOMC_6304b95461b612b4760ab27c] \n",
       "  - (No description)\n",
       "\n",
       "\n",
       "Catboost custom classifier: [CUSTOMC_6304d19472ae9680d564e19a] \n",
       "  - (No description)"
      ]
     },
     "execution_count": 21,
     "metadata": {},
     "output_type": "execute_result"
    }
   ],
   "source": [
    "w.search_tasks(task_name)"
   ]
  },
  {
   "cell_type": "code",
   "execution_count": 22,
   "metadata": {},
   "outputs": [
    {
     "data": {
      "image/png": "[encoded data removed]",
      "text/plain": [
       "<IPython.core.display.Image object>"
      ]
     },
     "metadata": {},
     "output_type": "display_data"
    }
   ],
   "source": [
    "w = Workshop(project_id=project_id)\n",
    "\n",
    "pnia4 = w.Tasks.PNIA4(w.TaskInputs.NUM)\n",
    "pnia4.set_task_parameters(s=True)\n",
    "\n",
    "diag_1_desc = w.Features.diag_1_desc\n",
    "\n",
    "ordcat2 = w.Tasks.ORDCAT2(w.TaskInputs.CAT)\n",
    "ordcat2.set_task_parameters(m='freq')\n",
    "\n",
    "wngec2 = w.Tasks.WNGEC2(diag_1_desc, output_method=w.TaskOutputMethod.STACK)\n",
    "wngec2.set_task_parameters(bi=True, a=0, lc=True, madf=0.8, midf=2, nrm='l2', num=[1, 2], tol=0, uidf=False)\n",
    "\n",
    "# eslgbmtc = w.Tasks.ESLGBMTC(wngec2, pnia4, ordcat2)\n",
    "#eslgbmtc.set_task_parameters(cbt=0.3, lr=0.05, n=2500, nl=[2, 4, 16], s=1, ss=1)\n",
    "# catboost = w.CustomTasks.CUSTOMC_6304b95461b612b4760ab27c(wngec2, pnia4, ordcat2)\n",
    "catboost = w.CustomTasks.CUSTOMC_6304d19472ae9680d564e19a(wngec2, pnia4, ordcat2)\n",
    "\n",
    "# eslgbmtc_blueprint = w.BlueprintGraph(eslgbmtc, name='Light Gradient Boosted Trees Classifier with Early Stopping')\n",
    "catboost_blueprint = w.BlueprintGraph(catboost, name='Light Gradient Boosted CatBoost Classifier with Early Stopping [custom]')\n",
    "\n",
    "catboost_blueprint.show()"
   ]
  },
  {
   "cell_type": "code",
   "execution_count": 30,
   "metadata": {},
   "outputs": [
    {
     "ename": "NameError",
     "evalue": "name 'save_custom_task' is not defined",
     "output_type": "error",
     "traceback": [
      "\u001b[0;31m---------------------------------------------------------------------------\u001b[0m",
      "\u001b[0;31mNameError\u001b[0m                                 Traceback (most recent call last)",
      "\u001b[1;32m/Users/toon.weyens/Code/data-science-scripts/tweyens/MLOps-advanced/custom_task_catboost_classifier.ipynb Cell 29\u001b[0m in \u001b[0;36m<cell line: 1>\u001b[0;34m()\u001b[0m\n\u001b[0;32m----> <a href='vscode-notebook-cell:/Users/toon.weyens/Code/data-science-scripts/tweyens/MLOps-advanced/custom_task_catboost_classifier.ipynb#X54sZmlsZQ%3D%3D?line=0'>1</a>\u001b[0m \u001b[39mif\u001b[39;00m save_custom_task:\n\u001b[1;32m      <a href='vscode-notebook-cell:/Users/toon.weyens/Code/data-science-scripts/tweyens/MLOps-advanced/custom_task_catboost_classifier.ipynb#X54sZmlsZQ%3D%3D?line=1'>2</a>\u001b[0m     catboost_blueprint\u001b[39m.\u001b[39msave()\n",
      "\u001b[0;31mNameError\u001b[0m: name 'save_custom_task' is not defined"
     ]
    }
   ],
   "source": [
    "if save_custom_task:\n",
    "    catboost_blueprint.save()"
   ]
  },
  {
   "cell_type": "code",
   "execution_count": 23,
   "metadata": {},
   "outputs": [
    {
     "name": "stdout",
     "output_type": "stream",
     "text": [
      "Training requested! Blueprint Id: f7822c5f26f87cf0a9b3a54d15131e7d\n"
     ]
    }
   ],
   "source": [
    "if train_blueprint:\n",
    "    catboost_blueprint.train(project_id=project_id)"
   ]
  },
  {
   "cell_type": "code",
   "execution_count": 28,
   "metadata": {},
   "outputs": [
    {
     "name": "stdout",
     "output_type": "stream",
     "text": [
      "['__call__', '__class__', '__delattr__', '__dict__', '__dir__', '__doc__', '__eq__', '__format__', '__friendly_repr__', '__ge__', '__getattribute__', '__gt__', '__hash__', '__init__', '__init_subclass__', '__le__', '__lt__', '__module__', '__ne__', '__new__', '__reduce__', '__reduce_ex__', '__repr__', '__setattr__', '__sizeof__', '__str__', '__subclasshook__', '__weakref__', '_as_graph', '_built_input_ref', '_cached_graph', '_custom_task_definitions', '_custom_task_version_definitions', '_freeze', '_frozen', '_frozen_tasks', '_get_sink_task_ids', '_get_task_lookup', '_handle_feature_selection', '_input_name_lookup', '_is_dag', '_refresh_cached', '_sorted_task_ids', '_task_definitions', '_tasks_from_task', '_traverse_dag', '_unfreeze', '_update_with_user_blueprint', '_user_blueprint', '_workshop', 'add_to_repository', 'as_graphviz_string', 'creator', 'delete', 'deserialize', 'from_user_blueprint', 'from_user_blueprint_tasks', 'last_modifier_name', 'link_to_project', 'name', 'project_id', 'save', 'serialize', 'share', 'share_with_group', 'share_with_org', 'show', 'tasks', 'to_source_code', 'train', 'user_blueprint_id', 'vertex_context']\n"
     ]
    }
   ],
   "source": [
    "print(dir(catboost_blueprint))"
   ]
  },
  {
   "cell_type": "code",
   "execution_count": 29,
   "metadata": {},
   "outputs": [
    {
     "data": {
      "text/plain": [
       "<bound method BlueprintGraph.link_to_project of Name: 'Light Gradient Boosted CatBoost Classifier with Early Stopping [custom]'\n",
       "\n",
       "Input Data: Text | Numeric | Categorical\n",
       "Tasks: Single Column Converter, Select Feature: 'diag_1_desc' | Missing Values Imputed (arbitrary or quick median) | Ordinal encoding of categorical variables | Auto-Tuned N-Gram Text Classifier using token counts | Catboost custom classifier\n",
       "Linked Project Id: 62ff9ee1969b9a4bbeb104be>"
      ]
     },
     "execution_count": 29,
     "metadata": {},
     "output_type": "execute_result"
    }
   ],
   "source": [
    "catboost_blueprint.link_to_project"
   ]
  },
  {
   "cell_type": "code",
   "execution_count": 24,
   "metadata": {},
   "outputs": [
    {
     "data": {
      "text/html": [
       "<div>\n",
       "<style scoped>\n",
       "    .dataframe tbody tr th:only-of-type {\n",
       "        vertical-align: middle;\n",
       "    }\n",
       "\n",
       "    .dataframe tbody tr th {\n",
       "        vertical-align: top;\n",
       "    }\n",
       "\n",
       "    .dataframe thead th {\n",
       "        text-align: right;\n",
       "    }\n",
       "</style>\n",
       "<table border=\"1\" class=\"dataframe\">\n",
       "  <thead>\n",
       "    <tr style=\"text-align: right;\">\n",
       "      <th></th>\n",
       "      <th>race</th>\n",
       "      <th>gender</th>\n",
       "      <th>age</th>\n",
       "      <th>weight</th>\n",
       "      <th>admission_type_id</th>\n",
       "      <th>discharge_disposition_id</th>\n",
       "      <th>admission_source_id</th>\n",
       "      <th>time_in_hospital</th>\n",
       "      <th>payer_code</th>\n",
       "      <th>medical_specialty</th>\n",
       "      <th>...</th>\n",
       "      <th>citoglipton</th>\n",
       "      <th>insulin</th>\n",
       "      <th>glyburide_metformin</th>\n",
       "      <th>glipizide_metformin</th>\n",
       "      <th>glimepiride_pioglitazone</th>\n",
       "      <th>metformin_rosiglitazone</th>\n",
       "      <th>metformin_pioglitazone</th>\n",
       "      <th>change</th>\n",
       "      <th>diabetesMed</th>\n",
       "      <th>diag_1_desc</th>\n",
       "    </tr>\n",
       "  </thead>\n",
       "  <tbody>\n",
       "    <tr>\n",
       "      <th>0</th>\n",
       "      <td>Caucasian</td>\n",
       "      <td>Female</td>\n",
       "      <td>[50-60)</td>\n",
       "      <td>?</td>\n",
       "      <td>Elective</td>\n",
       "      <td>Discharged to home</td>\n",
       "      <td>Physician Referral</td>\n",
       "      <td>1</td>\n",
       "      <td>CP</td>\n",
       "      <td>Surgery-Neuro</td>\n",
       "      <td>...</td>\n",
       "      <td>No</td>\n",
       "      <td>No</td>\n",
       "      <td>No</td>\n",
       "      <td>No</td>\n",
       "      <td>No</td>\n",
       "      <td>No</td>\n",
       "      <td>No</td>\n",
       "      <td>No</td>\n",
       "      <td>No</td>\n",
       "      <td>Spinal stenosis in cervical region</td>\n",
       "    </tr>\n",
       "    <tr>\n",
       "      <th>1</th>\n",
       "      <td>Caucasian</td>\n",
       "      <td>Female</td>\n",
       "      <td>[20-30)</td>\n",
       "      <td>[50-75)</td>\n",
       "      <td>Urgent</td>\n",
       "      <td>Discharged to home</td>\n",
       "      <td>Physician Referral</td>\n",
       "      <td>2</td>\n",
       "      <td>UN</td>\n",
       "      <td>?</td>\n",
       "      <td>...</td>\n",
       "      <td>No</td>\n",
       "      <td>No</td>\n",
       "      <td>No</td>\n",
       "      <td>No</td>\n",
       "      <td>No</td>\n",
       "      <td>No</td>\n",
       "      <td>No</td>\n",
       "      <td>No</td>\n",
       "      <td>No</td>\n",
       "      <td>First-degree perineal laceration, unspecified ...</td>\n",
       "    </tr>\n",
       "    <tr>\n",
       "      <th>2</th>\n",
       "      <td>Caucasian</td>\n",
       "      <td>Male</td>\n",
       "      <td>[80-90)</td>\n",
       "      <td>?</td>\n",
       "      <td>Not Available</td>\n",
       "      <td>Discharged/transferred to home with home healt...</td>\n",
       "      <td>NaN</td>\n",
       "      <td>7</td>\n",
       "      <td>MC</td>\n",
       "      <td>Family/GeneralPractice</td>\n",
       "      <td>...</td>\n",
       "      <td>No</td>\n",
       "      <td>Steady</td>\n",
       "      <td>No</td>\n",
       "      <td>No</td>\n",
       "      <td>No</td>\n",
       "      <td>No</td>\n",
       "      <td>No</td>\n",
       "      <td>No</td>\n",
       "      <td>Yes</td>\n",
       "      <td>Pneumococcal pneumonia [Streptococcus pneumoni...</td>\n",
       "    </tr>\n",
       "    <tr>\n",
       "      <th>3</th>\n",
       "      <td>AfricanAmerican</td>\n",
       "      <td>Female</td>\n",
       "      <td>[50-60)</td>\n",
       "      <td>?</td>\n",
       "      <td>Emergency</td>\n",
       "      <td>Discharged to home</td>\n",
       "      <td>Transfer from another health care facility</td>\n",
       "      <td>4</td>\n",
       "      <td>UN</td>\n",
       "      <td>?</td>\n",
       "      <td>...</td>\n",
       "      <td>No</td>\n",
       "      <td>Steady</td>\n",
       "      <td>No</td>\n",
       "      <td>No</td>\n",
       "      <td>No</td>\n",
       "      <td>No</td>\n",
       "      <td>No</td>\n",
       "      <td>No</td>\n",
       "      <td>Yes</td>\n",
       "      <td>Cellulitis and abscess of face</td>\n",
       "    </tr>\n",
       "    <tr>\n",
       "      <th>4</th>\n",
       "      <td>AfricanAmerican</td>\n",
       "      <td>Female</td>\n",
       "      <td>[50-60)</td>\n",
       "      <td>?</td>\n",
       "      <td>Emergency</td>\n",
       "      <td>Discharged to home</td>\n",
       "      <td>Emergency Room</td>\n",
       "      <td>5</td>\n",
       "      <td>?</td>\n",
       "      <td>Psychiatry</td>\n",
       "      <td>...</td>\n",
       "      <td>No</td>\n",
       "      <td>Steady</td>\n",
       "      <td>No</td>\n",
       "      <td>No</td>\n",
       "      <td>No</td>\n",
       "      <td>No</td>\n",
       "      <td>No</td>\n",
       "      <td>Ch</td>\n",
       "      <td>Yes</td>\n",
       "      <td>Bipolar I disorder, single manic episode, unsp...</td>\n",
       "    </tr>\n",
       "    <tr>\n",
       "      <th>...</th>\n",
       "      <td>...</td>\n",
       "      <td>...</td>\n",
       "      <td>...</td>\n",
       "      <td>...</td>\n",
       "      <td>...</td>\n",
       "      <td>...</td>\n",
       "      <td>...</td>\n",
       "      <td>...</td>\n",
       "      <td>...</td>\n",
       "      <td>...</td>\n",
       "      <td>...</td>\n",
       "      <td>...</td>\n",
       "      <td>...</td>\n",
       "      <td>...</td>\n",
       "      <td>...</td>\n",
       "      <td>...</td>\n",
       "      <td>...</td>\n",
       "      <td>...</td>\n",
       "      <td>...</td>\n",
       "      <td>...</td>\n",
       "      <td>...</td>\n",
       "    </tr>\n",
       "    <tr>\n",
       "      <th>9495</th>\n",
       "      <td>Caucasian</td>\n",
       "      <td>Female</td>\n",
       "      <td>[70-80)</td>\n",
       "      <td>?</td>\n",
       "      <td>Emergency</td>\n",
       "      <td>Discharged/transferred to home with home healt...</td>\n",
       "      <td>Emergency Room</td>\n",
       "      <td>9</td>\n",
       "      <td>MC</td>\n",
       "      <td>?</td>\n",
       "      <td>...</td>\n",
       "      <td>No</td>\n",
       "      <td>No</td>\n",
       "      <td>No</td>\n",
       "      <td>No</td>\n",
       "      <td>No</td>\n",
       "      <td>No</td>\n",
       "      <td>No</td>\n",
       "      <td>No</td>\n",
       "      <td>No</td>\n",
       "      <td>Acute lymphoid leukemia, without mention of ha...</td>\n",
       "    </tr>\n",
       "    <tr>\n",
       "      <th>9496</th>\n",
       "      <td>Caucasian</td>\n",
       "      <td>Male</td>\n",
       "      <td>[60-70)</td>\n",
       "      <td>?</td>\n",
       "      <td>Urgent</td>\n",
       "      <td>Discharged to home</td>\n",
       "      <td>Emergency Room</td>\n",
       "      <td>2</td>\n",
       "      <td>?</td>\n",
       "      <td>?</td>\n",
       "      <td>...</td>\n",
       "      <td>No</td>\n",
       "      <td>Steady</td>\n",
       "      <td>No</td>\n",
       "      <td>No</td>\n",
       "      <td>No</td>\n",
       "      <td>No</td>\n",
       "      <td>No</td>\n",
       "      <td>No</td>\n",
       "      <td>Yes</td>\n",
       "      <td>Abscess of liver</td>\n",
       "    </tr>\n",
       "    <tr>\n",
       "      <th>9497</th>\n",
       "      <td>Caucasian</td>\n",
       "      <td>Male</td>\n",
       "      <td>[40-50)</td>\n",
       "      <td>?</td>\n",
       "      <td>Emergency</td>\n",
       "      <td>Discharged to home</td>\n",
       "      <td>Emergency Room</td>\n",
       "      <td>1</td>\n",
       "      <td>?</td>\n",
       "      <td>?</td>\n",
       "      <td>...</td>\n",
       "      <td>No</td>\n",
       "      <td>No</td>\n",
       "      <td>No</td>\n",
       "      <td>No</td>\n",
       "      <td>No</td>\n",
       "      <td>No</td>\n",
       "      <td>No</td>\n",
       "      <td>No</td>\n",
       "      <td>Yes</td>\n",
       "      <td>Respiratory abnormality, unspecified</td>\n",
       "    </tr>\n",
       "    <tr>\n",
       "      <th>9498</th>\n",
       "      <td>Caucasian</td>\n",
       "      <td>Male</td>\n",
       "      <td>[50-60)</td>\n",
       "      <td>?</td>\n",
       "      <td>Emergency</td>\n",
       "      <td>Discharged to home</td>\n",
       "      <td>Emergency Room</td>\n",
       "      <td>6</td>\n",
       "      <td>MD</td>\n",
       "      <td>?</td>\n",
       "      <td>...</td>\n",
       "      <td>No</td>\n",
       "      <td>Down</td>\n",
       "      <td>No</td>\n",
       "      <td>No</td>\n",
       "      <td>No</td>\n",
       "      <td>No</td>\n",
       "      <td>No</td>\n",
       "      <td>Ch</td>\n",
       "      <td>Yes</td>\n",
       "      <td>Malignant hypertensive heart disease without h...</td>\n",
       "    </tr>\n",
       "    <tr>\n",
       "      <th>9499</th>\n",
       "      <td>AfricanAmerican</td>\n",
       "      <td>Female</td>\n",
       "      <td>[60-70)</td>\n",
       "      <td>?</td>\n",
       "      <td>Emergency</td>\n",
       "      <td>Discharged to home</td>\n",
       "      <td>Physician Referral</td>\n",
       "      <td>1</td>\n",
       "      <td>?</td>\n",
       "      <td>?</td>\n",
       "      <td>...</td>\n",
       "      <td>No</td>\n",
       "      <td>No</td>\n",
       "      <td>No</td>\n",
       "      <td>No</td>\n",
       "      <td>No</td>\n",
       "      <td>No</td>\n",
       "      <td>No</td>\n",
       "      <td>No</td>\n",
       "      <td>No</td>\n",
       "      <td>Basilar artery syndrome</td>\n",
       "    </tr>\n",
       "  </tbody>\n",
       "</table>\n",
       "<p>9500 rows × 48 columns</p>\n",
       "</div>"
      ],
      "text/plain": [
       "                 race  gender      age   weight admission_type_id  \\\n",
       "0           Caucasian  Female  [50-60)        ?          Elective   \n",
       "1           Caucasian  Female  [20-30)  [50-75)            Urgent   \n",
       "2           Caucasian    Male  [80-90)        ?     Not Available   \n",
       "3     AfricanAmerican  Female  [50-60)        ?         Emergency   \n",
       "4     AfricanAmerican  Female  [50-60)        ?         Emergency   \n",
       "...               ...     ...      ...      ...               ...   \n",
       "9495        Caucasian  Female  [70-80)        ?         Emergency   \n",
       "9496        Caucasian    Male  [60-70)        ?            Urgent   \n",
       "9497        Caucasian    Male  [40-50)        ?         Emergency   \n",
       "9498        Caucasian    Male  [50-60)        ?         Emergency   \n",
       "9499  AfricanAmerican  Female  [60-70)        ?         Emergency   \n",
       "\n",
       "                               discharge_disposition_id  \\\n",
       "0                                    Discharged to home   \n",
       "1                                    Discharged to home   \n",
       "2     Discharged/transferred to home with home healt...   \n",
       "3                                    Discharged to home   \n",
       "4                                    Discharged to home   \n",
       "...                                                 ...   \n",
       "9495  Discharged/transferred to home with home healt...   \n",
       "9496                                 Discharged to home   \n",
       "9497                                 Discharged to home   \n",
       "9498                                 Discharged to home   \n",
       "9499                                 Discharged to home   \n",
       "\n",
       "                             admission_source_id  time_in_hospital payer_code  \\\n",
       "0                             Physician Referral                 1         CP   \n",
       "1                             Physician Referral                 2         UN   \n",
       "2                                            NaN                 7         MC   \n",
       "3     Transfer from another health care facility                 4         UN   \n",
       "4                                 Emergency Room                 5          ?   \n",
       "...                                          ...               ...        ...   \n",
       "9495                              Emergency Room                 9         MC   \n",
       "9496                              Emergency Room                 2          ?   \n",
       "9497                              Emergency Room                 1          ?   \n",
       "9498                              Emergency Room                 6         MD   \n",
       "9499                          Physician Referral                 1          ?   \n",
       "\n",
       "           medical_specialty  ...  citoglipton  insulin  glyburide_metformin  \\\n",
       "0              Surgery-Neuro  ...           No       No                   No   \n",
       "1                          ?  ...           No       No                   No   \n",
       "2     Family/GeneralPractice  ...           No   Steady                   No   \n",
       "3                          ?  ...           No   Steady                   No   \n",
       "4                 Psychiatry  ...           No   Steady                   No   \n",
       "...                      ...  ...          ...      ...                  ...   \n",
       "9495                       ?  ...           No       No                   No   \n",
       "9496                       ?  ...           No   Steady                   No   \n",
       "9497                       ?  ...           No       No                   No   \n",
       "9498                       ?  ...           No     Down                   No   \n",
       "9499                       ?  ...           No       No                   No   \n",
       "\n",
       "      glipizide_metformin  glimepiride_pioglitazone  metformin_rosiglitazone  \\\n",
       "0                      No                        No                       No   \n",
       "1                      No                        No                       No   \n",
       "2                      No                        No                       No   \n",
       "3                      No                        No                       No   \n",
       "4                      No                        No                       No   \n",
       "...                   ...                       ...                      ...   \n",
       "9495                   No                        No                       No   \n",
       "9496                   No                        No                       No   \n",
       "9497                   No                        No                       No   \n",
       "9498                   No                        No                       No   \n",
       "9499                   No                        No                       No   \n",
       "\n",
       "     metformin_pioglitazone change diabetesMed  \\\n",
       "0                        No     No          No   \n",
       "1                        No     No          No   \n",
       "2                        No     No         Yes   \n",
       "3                        No     No         Yes   \n",
       "4                        No     Ch         Yes   \n",
       "...                     ...    ...         ...   \n",
       "9495                     No     No          No   \n",
       "9496                     No     No         Yes   \n",
       "9497                     No     No         Yes   \n",
       "9498                     No     Ch         Yes   \n",
       "9499                     No     No          No   \n",
       "\n",
       "                                            diag_1_desc  \n",
       "0                    Spinal stenosis in cervical region  \n",
       "1     First-degree perineal laceration, unspecified ...  \n",
       "2     Pneumococcal pneumonia [Streptococcus pneumoni...  \n",
       "3                        Cellulitis and abscess of face  \n",
       "4     Bipolar I disorder, single manic episode, unsp...  \n",
       "...                                                 ...  \n",
       "9495  Acute lymphoid leukemia, without mention of ha...  \n",
       "9496                                   Abscess of liver  \n",
       "9497               Respiratory abnormality, unspecified  \n",
       "9498  Malignant hypertensive heart disease without h...  \n",
       "9499                            Basilar artery syndrome  \n",
       "\n",
       "[9500 rows x 48 columns]"
      ]
     },
     "execution_count": 24,
     "metadata": {},
     "output_type": "execute_result"
    }
   ],
   "source": [
    "X"
   ]
  },
  {
   "cell_type": "code",
   "execution_count": null,
   "metadata": {},
   "outputs": [],
   "source": []
  },
  {
   "cell_type": "code",
   "execution_count": null,
   "metadata": {},
   "outputs": [],
   "source": []
  },
  {
   "cell_type": "code",
   "execution_count": null,
   "metadata": {},
   "outputs": [],
   "source": []
  }
 ],
 "metadata": {
  "kernelspec": {
   "display_name": "Python 3.9.13 ('MLOps-advanced-e-DItRu4')",
   "language": "python",
   "name": "python3"
  },
  "language_info": {
   "codemirror_mode": {
    "name": "ipython",
    "version": 3
   },
   "file_extension": ".py",
   "mimetype": "text/x-python",
   "name": "python",
   "nbconvert_exporter": "python",
   "pygments_lexer": "ipython3",
   "version": "3.9.13"
  },
  "orig_nbformat": 4,
  "vscode": {
   "interpreter": {
    "hash": "ad7cc6ab9da9a489235d7b977039a6259eaf245016df2a2ab78daa8000346960"
   }
  }
 },
 "nbformat": 4,
 "nbformat_minor": 2
}
